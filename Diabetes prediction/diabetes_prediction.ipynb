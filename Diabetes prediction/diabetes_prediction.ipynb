{
 "cells": [
  {
   "cell_type": "code",
   "execution_count": 87,
   "id": "1f26dbe7-0908-4945-a4ae-1b10510c11ae",
   "metadata": {},
   "outputs": [],
   "source": [
    "import pandas as pd\n",
    "import matplotlib.pyplot as plt"
   ]
  },
  {
   "cell_type": "code",
   "execution_count": 88,
   "id": "e80abbe1-7fef-4eac-a47f-b569e7644ad0",
   "metadata": {},
   "outputs": [],
   "source": [
    "df = pd.read_csv('diabetes.csv')"
   ]
  },
  {
   "cell_type": "markdown",
   "id": "776d7f2d-e21d-48af-a5b3-e79d1b270dd2",
   "metadata": {},
   "source": [
    "## Exploratory data analysis"
   ]
  },
  {
   "cell_type": "code",
   "execution_count": 89,
   "id": "683dc2f9-f4df-4daa-b4dd-77013b3ca088",
   "metadata": {},
   "outputs": [
    {
     "data": {
      "text/html": [
       "<div>\n",
       "<style scoped>\n",
       "    .dataframe tbody tr th:only-of-type {\n",
       "        vertical-align: middle;\n",
       "    }\n",
       "\n",
       "    .dataframe tbody tr th {\n",
       "        vertical-align: top;\n",
       "    }\n",
       "\n",
       "    .dataframe thead th {\n",
       "        text-align: right;\n",
       "    }\n",
       "</style>\n",
       "<table border=\"1\" class=\"dataframe\">\n",
       "  <thead>\n",
       "    <tr style=\"text-align: right;\">\n",
       "      <th></th>\n",
       "      <th>Pregnancies</th>\n",
       "      <th>Glucose</th>\n",
       "      <th>BloodPressure</th>\n",
       "      <th>SkinThickness</th>\n",
       "      <th>Insulin</th>\n",
       "      <th>BMI</th>\n",
       "      <th>DiabetesPedigreeFunction</th>\n",
       "      <th>Age</th>\n",
       "      <th>Outcome</th>\n",
       "    </tr>\n",
       "  </thead>\n",
       "  <tbody>\n",
       "    <tr>\n",
       "      <th>0</th>\n",
       "      <td>6</td>\n",
       "      <td>148</td>\n",
       "      <td>72</td>\n",
       "      <td>35</td>\n",
       "      <td>0</td>\n",
       "      <td>33.6</td>\n",
       "      <td>0.627</td>\n",
       "      <td>50</td>\n",
       "      <td>1</td>\n",
       "    </tr>\n",
       "    <tr>\n",
       "      <th>1</th>\n",
       "      <td>1</td>\n",
       "      <td>85</td>\n",
       "      <td>66</td>\n",
       "      <td>29</td>\n",
       "      <td>0</td>\n",
       "      <td>26.6</td>\n",
       "      <td>0.351</td>\n",
       "      <td>31</td>\n",
       "      <td>0</td>\n",
       "    </tr>\n",
       "    <tr>\n",
       "      <th>2</th>\n",
       "      <td>8</td>\n",
       "      <td>183</td>\n",
       "      <td>64</td>\n",
       "      <td>0</td>\n",
       "      <td>0</td>\n",
       "      <td>23.3</td>\n",
       "      <td>0.672</td>\n",
       "      <td>32</td>\n",
       "      <td>1</td>\n",
       "    </tr>\n",
       "    <tr>\n",
       "      <th>3</th>\n",
       "      <td>1</td>\n",
       "      <td>89</td>\n",
       "      <td>66</td>\n",
       "      <td>23</td>\n",
       "      <td>94</td>\n",
       "      <td>28.1</td>\n",
       "      <td>0.167</td>\n",
       "      <td>21</td>\n",
       "      <td>0</td>\n",
       "    </tr>\n",
       "    <tr>\n",
       "      <th>4</th>\n",
       "      <td>0</td>\n",
       "      <td>137</td>\n",
       "      <td>40</td>\n",
       "      <td>35</td>\n",
       "      <td>168</td>\n",
       "      <td>43.1</td>\n",
       "      <td>2.288</td>\n",
       "      <td>33</td>\n",
       "      <td>1</td>\n",
       "    </tr>\n",
       "    <tr>\n",
       "      <th>5</th>\n",
       "      <td>5</td>\n",
       "      <td>116</td>\n",
       "      <td>74</td>\n",
       "      <td>0</td>\n",
       "      <td>0</td>\n",
       "      <td>25.6</td>\n",
       "      <td>0.201</td>\n",
       "      <td>30</td>\n",
       "      <td>0</td>\n",
       "    </tr>\n",
       "    <tr>\n",
       "      <th>6</th>\n",
       "      <td>3</td>\n",
       "      <td>78</td>\n",
       "      <td>50</td>\n",
       "      <td>32</td>\n",
       "      <td>88</td>\n",
       "      <td>31.0</td>\n",
       "      <td>0.248</td>\n",
       "      <td>26</td>\n",
       "      <td>1</td>\n",
       "    </tr>\n",
       "    <tr>\n",
       "      <th>7</th>\n",
       "      <td>10</td>\n",
       "      <td>115</td>\n",
       "      <td>0</td>\n",
       "      <td>0</td>\n",
       "      <td>0</td>\n",
       "      <td>35.3</td>\n",
       "      <td>0.134</td>\n",
       "      <td>29</td>\n",
       "      <td>0</td>\n",
       "    </tr>\n",
       "    <tr>\n",
       "      <th>8</th>\n",
       "      <td>2</td>\n",
       "      <td>197</td>\n",
       "      <td>70</td>\n",
       "      <td>45</td>\n",
       "      <td>543</td>\n",
       "      <td>30.5</td>\n",
       "      <td>0.158</td>\n",
       "      <td>53</td>\n",
       "      <td>1</td>\n",
       "    </tr>\n",
       "    <tr>\n",
       "      <th>9</th>\n",
       "      <td>8</td>\n",
       "      <td>125</td>\n",
       "      <td>96</td>\n",
       "      <td>0</td>\n",
       "      <td>0</td>\n",
       "      <td>0.0</td>\n",
       "      <td>0.232</td>\n",
       "      <td>54</td>\n",
       "      <td>1</td>\n",
       "    </tr>\n",
       "  </tbody>\n",
       "</table>\n",
       "</div>"
      ],
      "text/plain": [
       "   Pregnancies  Glucose  BloodPressure  SkinThickness  Insulin   BMI  \\\n",
       "0            6      148             72             35        0  33.6   \n",
       "1            1       85             66             29        0  26.6   \n",
       "2            8      183             64              0        0  23.3   \n",
       "3            1       89             66             23       94  28.1   \n",
       "4            0      137             40             35      168  43.1   \n",
       "5            5      116             74              0        0  25.6   \n",
       "6            3       78             50             32       88  31.0   \n",
       "7           10      115              0              0        0  35.3   \n",
       "8            2      197             70             45      543  30.5   \n",
       "9            8      125             96              0        0   0.0   \n",
       "\n",
       "   DiabetesPedigreeFunction  Age  Outcome  \n",
       "0                     0.627   50        1  \n",
       "1                     0.351   31        0  \n",
       "2                     0.672   32        1  \n",
       "3                     0.167   21        0  \n",
       "4                     2.288   33        1  \n",
       "5                     0.201   30        0  \n",
       "6                     0.248   26        1  \n",
       "7                     0.134   29        0  \n",
       "8                     0.158   53        1  \n",
       "9                     0.232   54        1  "
      ]
     },
     "execution_count": 89,
     "metadata": {},
     "output_type": "execute_result"
    }
   ],
   "source": [
    "df.head(10)"
   ]
  },
  {
   "cell_type": "code",
   "execution_count": 90,
   "id": "2c8983f0-034b-4ee1-b2d5-f8f1d2fcb262",
   "metadata": {},
   "outputs": [
    {
     "data": {
      "image/png": "[encoded data removed]",
      "text/plain": [
       "<Figure size 1080x1080 with 9 Axes>"
      ]
     },
     "metadata": {
      "needs_background": "light"
     },
     "output_type": "display_data"
    }
   ],
   "source": [
    "df.hist(figsize = (15,15))\n",
    "plt.show()"
   ]
  },
  {
   "cell_type": "code",
   "execution_count": 91,
   "id": "83360ebc-df87-47c4-8f47-62f91caf7676",
   "metadata": {},
   "outputs": [
    {
     "data": {
      "image/png": "[encoded data removed]",
      "text/plain": [
       "<Figure size 1080x1080 with 9 Axes>"
      ]
     },
     "metadata": {
      "needs_background": "light"
     },
     "output_type": "display_data"
    }
   ],
   "source": [
    "import seaborn as sns\n",
    "import warnings\n",
    "warnings.filterwarnings(\"ignore\")\n",
    "\n",
    "''' Distplot is obsolute, needs code change for displot which is what we are tryign to do'''\n",
    "\n",
    "# create subplot of 3 x 3\n",
    "plt.subplots(3,3, figsize = (15,15))\n",
    "\n",
    "# plot density plot for each varaible\n",
    "for idx, col in enumerate(df.columns):\n",
    "    ax = plt.subplot(3, 3, idx + 1)\n",
    "    ax.yaxis.set_ticklabels([])\n",
    "    sns.distplot(df.loc[df.Outcome == 0][col], \n",
    "                 hist = False, \n",
    "                 axlabel = False,\n",
    "                 kde_kws = {'linestyle':'-',\n",
    "                            'color':'black',\n",
    "                            'label':\"No Diabetes\"})\n",
    "    sns.distplot(df.loc[df.Outcome == 1][col],\n",
    "                 hist = False,\n",
    "                 axlabel = False, \n",
    "                 kde_kws = {'linestyle':'--',\n",
    "                            'color':'red',\n",
    "                            'label':\"Diabetes\"})\n",
    "    ax.set_title(col)\n",
    "    plt.subplot(3,3,9).set_visible(False)\n",
    "                 "
   ]
  },
  {
   "cell_type": "markdown",
   "id": "cc761b71-30c0-4a87-94b3-120deed9098a",
   "metadata": {},
   "source": [
    "## Data preprocessing"
   ]
  },
  {
   "cell_type": "code",
   "execution_count": 92,
   "id": "a720f1d5-0da5-4b01-8e12-abf0932fb938",
   "metadata": {},
   "outputs": [
    {
     "data": {
      "text/plain": [
       "Pregnancies                 False\n",
       "Glucose                     False\n",
       "BloodPressure               False\n",
       "SkinThickness               False\n",
       "Insulin                     False\n",
       "BMI                         False\n",
       "DiabetesPedigreeFunction    False\n",
       "Age                         False\n",
       "Outcome                     False\n",
       "dtype: bool"
      ]
     },
     "execution_count": 92,
     "metadata": {},
     "output_type": "execute_result"
    }
   ],
   "source": [
    "# checking for null \n",
    "df.isnull().any()"
   ]
  },
  {
   "cell_type": "code",
   "execution_count": 93,
   "id": "afa520f5-3ed4-4b22-8c51-4a473b490758",
   "metadata": {},
   "outputs": [
    {
     "data": {
      "text/html": [
       "<div>\n",
       "<style scoped>\n",
       "    .dataframe tbody tr th:only-of-type {\n",
       "        vertical-align: middle;\n",
       "    }\n",
       "\n",
       "    .dataframe tbody tr th {\n",
       "        vertical-align: top;\n",
       "    }\n",
       "\n",
       "    .dataframe thead th {\n",
       "        text-align: right;\n",
       "    }\n",
       "</style>\n",
       "<table border=\"1\" class=\"dataframe\">\n",
       "  <thead>\n",
       "    <tr style=\"text-align: right;\">\n",
       "      <th></th>\n",
       "      <th>Pregnancies</th>\n",
       "      <th>Glucose</th>\n",
       "      <th>BloodPressure</th>\n",
       "      <th>SkinThickness</th>\n",
       "      <th>Insulin</th>\n",
       "      <th>BMI</th>\n",
       "      <th>DiabetesPedigreeFunction</th>\n",
       "      <th>Age</th>\n",
       "      <th>Outcome</th>\n",
       "    </tr>\n",
       "  </thead>\n",
       "  <tbody>\n",
       "    <tr>\n",
       "      <th>count</th>\n",
       "      <td>768.000000</td>\n",
       "      <td>768.000000</td>\n",
       "      <td>768.000000</td>\n",
       "      <td>768.000000</td>\n",
       "      <td>768.000000</td>\n",
       "      <td>768.000000</td>\n",
       "      <td>768.000000</td>\n",
       "      <td>768.000000</td>\n",
       "      <td>768.000000</td>\n",
       "    </tr>\n",
       "    <tr>\n",
       "      <th>mean</th>\n",
       "      <td>3.845052</td>\n",
       "      <td>120.894531</td>\n",
       "      <td>69.105469</td>\n",
       "      <td>20.536458</td>\n",
       "      <td>79.799479</td>\n",
       "      <td>31.992578</td>\n",
       "      <td>0.471876</td>\n",
       "      <td>33.240885</td>\n",
       "      <td>0.348958</td>\n",
       "    </tr>\n",
       "    <tr>\n",
       "      <th>std</th>\n",
       "      <td>3.369578</td>\n",
       "      <td>31.972618</td>\n",
       "      <td>19.355807</td>\n",
       "      <td>15.952218</td>\n",
       "      <td>115.244002</td>\n",
       "      <td>7.884160</td>\n",
       "      <td>0.331329</td>\n",
       "      <td>11.760232</td>\n",
       "      <td>0.476951</td>\n",
       "    </tr>\n",
       "    <tr>\n",
       "      <th>min</th>\n",
       "      <td>0.000000</td>\n",
       "      <td>0.000000</td>\n",
       "      <td>0.000000</td>\n",
       "      <td>0.000000</td>\n",
       "      <td>0.000000</td>\n",
       "      <td>0.000000</td>\n",
       "      <td>0.078000</td>\n",
       "      <td>21.000000</td>\n",
       "      <td>0.000000</td>\n",
       "    </tr>\n",
       "    <tr>\n",
       "      <th>25%</th>\n",
       "      <td>1.000000</td>\n",
       "      <td>99.000000</td>\n",
       "      <td>62.000000</td>\n",
       "      <td>0.000000</td>\n",
       "      <td>0.000000</td>\n",
       "      <td>27.300000</td>\n",
       "      <td>0.243750</td>\n",
       "      <td>24.000000</td>\n",
       "      <td>0.000000</td>\n",
       "    </tr>\n",
       "    <tr>\n",
       "      <th>50%</th>\n",
       "      <td>3.000000</td>\n",
       "      <td>117.000000</td>\n",
       "      <td>72.000000</td>\n",
       "      <td>23.000000</td>\n",
       "      <td>30.500000</td>\n",
       "      <td>32.000000</td>\n",
       "      <td>0.372500</td>\n",
       "      <td>29.000000</td>\n",
       "      <td>0.000000</td>\n",
       "    </tr>\n",
       "    <tr>\n",
       "      <th>75%</th>\n",
       "      <td>6.000000</td>\n",
       "      <td>140.250000</td>\n",
       "      <td>80.000000</td>\n",
       "      <td>32.000000</td>\n",
       "      <td>127.250000</td>\n",
       "      <td>36.600000</td>\n",
       "      <td>0.626250</td>\n",
       "      <td>41.000000</td>\n",
       "      <td>1.000000</td>\n",
       "    </tr>\n",
       "    <tr>\n",
       "      <th>max</th>\n",
       "      <td>17.000000</td>\n",
       "      <td>199.000000</td>\n",
       "      <td>122.000000</td>\n",
       "      <td>99.000000</td>\n",
       "      <td>846.000000</td>\n",
       "      <td>67.100000</td>\n",
       "      <td>2.420000</td>\n",
       "      <td>81.000000</td>\n",
       "      <td>1.000000</td>\n",
       "    </tr>\n",
       "  </tbody>\n",
       "</table>\n",
       "</div>"
      ],
      "text/plain": [
       "       Pregnancies     Glucose  BloodPressure  SkinThickness     Insulin  \\\n",
       "count   768.000000  768.000000     768.000000     768.000000  768.000000   \n",
       "mean      3.845052  120.894531      69.105469      20.536458   79.799479   \n",
       "std       3.369578   31.972618      19.355807      15.952218  115.244002   \n",
       "min       0.000000    0.000000       0.000000       0.000000    0.000000   \n",
       "25%       1.000000   99.000000      62.000000       0.000000    0.000000   \n",
       "50%       3.000000  117.000000      72.000000      23.000000   30.500000   \n",
       "75%       6.000000  140.250000      80.000000      32.000000  127.250000   \n",
       "max      17.000000  199.000000     122.000000      99.000000  846.000000   \n",
       "\n",
       "              BMI  DiabetesPedigreeFunction         Age     Outcome  \n",
       "count  768.000000                768.000000  768.000000  768.000000  \n",
       "mean    31.992578                  0.471876   33.240885    0.348958  \n",
       "std      7.884160                  0.331329   11.760232    0.476951  \n",
       "min      0.000000                  0.078000   21.000000    0.000000  \n",
       "25%     27.300000                  0.243750   24.000000    0.000000  \n",
       "50%     32.000000                  0.372500   29.000000    0.000000  \n",
       "75%     36.600000                  0.626250   41.000000    1.000000  \n",
       "max     67.100000                  2.420000   81.000000    1.000000  "
      ]
     },
     "execution_count": 93,
     "metadata": {},
     "output_type": "execute_result"
    }
   ],
   "source": [
    "df.describe()"
   ]
  },
  {
   "cell_type": "markdown",
   "id": "b96049ad-ebd3-47f9-bccc-d4adc263ebb9",
   "metadata": {},
   "source": [
    "Glucose, BloodPressure, skinThickness, Insulin, BMI have min values of 0; indicating that 0 is used in some rows in replace for null. This needs to be handled "
   ]
  },
  {
   "cell_type": "code",
   "execution_count": 94,
   "id": "ecccc4b7-f810-4da4-ae5e-ef5fee1c02b6",
   "metadata": {},
   "outputs": [
    {
     "name": "stdout",
     "output_type": "stream",
     "text": [
      "Number of rows with 0 values for each variable\n",
      "Pregnancies: 111\n",
      "Glucose: 5\n",
      "BloodPressure: 35\n",
      "SkinThickness: 227\n",
      "Insulin: 374\n",
      "BMI: 11\n",
      "DiabetesPedigreeFunction: 0\n",
      "Age: 0\n",
      "Outcome: 500\n"
     ]
    }
   ],
   "source": [
    "print(\"Number of rows with 0 values for each variable\")\n",
    "for col in df.columns: \n",
    "    missing_rows = df.loc[df[col] == 0].shape[0]\n",
    "    print(col + \": \" + str(missing_rows))"
   ]
  },
  {
   "cell_type": "markdown",
   "id": "dff48255-1053-4b37-835d-0e0cbe424657",
   "metadata": {},
   "source": [
    "To much of the data is replaced with 0. Therefore this is going to be replaced by the mean value for the corrisponding col"
   ]
  },
  {
   "cell_type": "code",
   "execution_count": 95,
   "id": "c9a34630-a3fb-4549-b1a8-5d94a80d4078",
   "metadata": {},
   "outputs": [],
   "source": [
    "import numpy as np\n",
    "\n",
    "# this replaces the 0 with nan's\n",
    "\n",
    "df['Glucose'] = df['Glucose'].replace(0, np.nan)\n",
    "df['BloodPressure'] = df['BloodPressure'].replace(0, np.nan)\n",
    "df['SkinThickness'] = df['SkinThickness'].replace(0, np.nan)\n",
    "df['Insulin'] = df['Insulin'].replace(0, np.nan)\n",
    "df['BMI'] = df['BMI'].replace(0, np.nan)"
   ]
  },
  {
   "cell_type": "code",
   "execution_count": 96,
   "id": "8b448c6f-7242-4f96-89c2-e6ef7580c787",
   "metadata": {},
   "outputs": [
    {
     "data": {
      "text/plain": [
       "Pregnancies                 False\n",
       "Glucose                      True\n",
       "BloodPressure                True\n",
       "SkinThickness                True\n",
       "Insulin                      True\n",
       "BMI                          True\n",
       "DiabetesPedigreeFunction    False\n",
       "Age                         False\n",
       "Outcome                     False\n",
       "dtype: bool"
      ]
     },
     "execution_count": 96,
     "metadata": {},
     "output_type": "execute_result"
    }
   ],
   "source": [
    "df.isnull().any()"
   ]
  },
  {
   "cell_type": "code",
   "execution_count": 97,
   "id": "19730cbd-e698-4c70-b3c7-837903f8bf26",
   "metadata": {},
   "outputs": [
    {
     "name": "stdout",
     "output_type": "stream",
     "text": [
      "Number of rows with 0 values for each variable\n",
      "Pregnancies: 111\n",
      "Glucose: 0\n",
      "BloodPressure: 0\n",
      "SkinThickness: 0\n",
      "Insulin: 0\n",
      "BMI: 0\n",
      "DiabetesPedigreeFunction: 0\n",
      "Age: 0\n",
      "Outcome: 500\n"
     ]
    }
   ],
   "source": [
    "print(\"Number of rows with 0 values for each variable\")\n",
    "for col in df.columns: \n",
    "    missing_rows = df.loc[df[col] == 0].shape[0]\n",
    "    print(col + \": \" + str(missing_rows))"
   ]
  },
  {
   "cell_type": "code",
   "execution_count": 98,
   "id": "8598f1a1-5351-4acb-ae1b-361be54dcce5",
   "metadata": {},
   "outputs": [],
   "source": [
    "# now fill nan with mean\n",
    "\n",
    "df['Glucose'] = df['Glucose'].fillna(df['Glucose'].mean())\n",
    "df['BloodPressure']  = df['BloodPressure'].fillna(df['BloodPressure'].mean())\n",
    "df['SkinThickness'] = df['SkinThickness'].fillna(df['SkinThickness'].mean())\n",
    "df['Insulin'] = df['Insulin'].fillna(df['Insulin'].mean())\n",
    "df['BMI'] = df['BMI'].fillna(df['BMI'].mean())"
   ]
  },
  {
   "cell_type": "markdown",
   "id": "c817ab7d-b034-44c7-b834-e45bb96b1988",
   "metadata": {},
   "source": [
    "## Data Standardisation"
   ]
  },
  {
   "cell_type": "code",
   "execution_count": 99,
   "id": "510a9f34-629a-40c2-86fc-579519f1387f",
   "metadata": {},
   "outputs": [],
   "source": [
    "from sklearn import preprocessing"
   ]
  },
  {
   "cell_type": "markdown",
   "id": "66cccbc1-a28f-48b0-b0b4-85eb9149743b",
   "metadata": {},
   "source": [
    "Preprocessing and standardisation fixes the standard divation of each feature to unity"
   ]
  },
  {
   "cell_type": "code",
   "execution_count": 100,
   "id": "72b25df0-2706-4084-ac93-ee4ff8eef526",
   "metadata": {},
   "outputs": [],
   "source": [
    "df_scaled = preprocessing.scale(df) # returns a object\n",
    "df_scaled = pd.DataFrame(df_scaled, columns = df.columns) # convert object back into pandas dataframe"
   ]
  },
  {
   "cell_type": "code",
   "execution_count": 101,
   "id": "e6f04fcf-42df-44aa-9959-239e0449fc36",
   "metadata": {},
   "outputs": [],
   "source": [
    "df_scaled['Outcome'] = df['Outcome'] # Since we dont want to standerdise target varable\n",
    "df = df_scaled"
   ]
  },
  {
   "cell_type": "code",
   "execution_count": 102,
   "id": "49d480d8-bfe8-47d5-8e31-06faa9ac4e4f",
   "metadata": {},
   "outputs": [
    {
     "name": "stdout",
     "output_type": "stream",
     "text": [
      "      Pregnancies  Glucose  BloodPressure  SkinThickness  Insulin   BMI  \\\n",
      "mean         0.00     0.00            0.0           0.00     0.00  0.00   \n",
      "std          1.00     1.00            1.0           1.00     1.00  1.00   \n",
      "max          3.91     2.54            4.1           7.95     8.13  5.04   \n",
      "\n",
      "      DiabetesPedigreeFunction   Age  Outcome  \n",
      "mean                      0.00  0.00     0.35  \n",
      "std                       1.00  1.00     0.48  \n",
      "max                       5.88  4.06     1.00  \n"
     ]
    }
   ],
   "source": [
    "print(df.describe().loc[['mean', 'std', 'max'],].round(2).abs())"
   ]
  },
  {
   "cell_type": "markdown",
   "id": "0b2d065f-f8e8-4838-9fd1-06f6ca056511",
   "metadata": {},
   "source": [
    "## Training and Test data preparation"
   ]
  },
  {
   "cell_type": "code",
   "execution_count": 103,
   "id": "99acad1a-44ee-41b9-a1e2-399e41417678",
   "metadata": {},
   "outputs": [],
   "source": [
    "from sklearn.model_selection import train_test_split"
   ]
  },
  {
   "cell_type": "code",
   "execution_count": 104,
   "id": "4de3847e-3121-4c22-b22c-176059d6cd13",
   "metadata": {},
   "outputs": [],
   "source": [
    "X = df.loc[:, df.columns != 'Outcome']\n",
    "y = df.loc[:, 'Outcome']"
   ]
  },
  {
   "cell_type": "code",
   "execution_count": 105,
   "id": "7722d8eb-2e10-4696-9f4c-a1b5af3bc050",
   "metadata": {},
   "outputs": [],
   "source": [
    "X_train, X_test, y_train, y_test = train_test_split(X,y, test_size = 0.2)"
   ]
  },
  {
   "cell_type": "code",
   "execution_count": 106,
   "id": "6dbda14d-cea6-45da-8434-3381b736e59b",
   "metadata": {},
   "outputs": [],
   "source": [
    "X_train, X_val, y_train, y_val = train_test_split(X_train, y_train, test_size = 0.2)"
   ]
  },
  {
   "cell_type": "markdown",
   "id": "ac0953d1-0b9b-4b18-86ef-9c6fba9d0d06",
   "metadata": {},
   "source": [
    "## Model"
   ]
  },
  {
   "cell_type": "code",
   "execution_count": 107,
   "id": "6d71a34b-c6d2-4c73-a618-98ed98c1d72c",
   "metadata": {},
   "outputs": [],
   "source": [
    "from keras.models import Sequential \n",
    "from keras.layers import Dense"
   ]
  },
  {
   "cell_type": "code",
   "execution_count": 117,
   "id": "ce35656c-26c3-499a-a3c8-76696a7d045b",
   "metadata": {},
   "outputs": [],
   "source": [
    "model = Sequential()"
   ]
  },
  {
   "cell_type": "code",
   "execution_count": 118,
   "id": "1237fa3f-edfe-40de-a19c-53cbfa319c4e",
   "metadata": {},
   "outputs": [],
   "source": [
    "model.add(Dense(32, activation = 'relu', input_dim = 8)) #ip layer\n",
    "model.add(Dense(16, activation = 'relu')) #hidden layer \n",
    "model.add(Dense(1, activation = 'sigmoid')) #op layer"
   ]
  },
  {
   "cell_type": "code",
   "execution_count": 119,
   "id": "466c6e30-ccbe-419a-a2dc-77b69f82566e",
   "metadata": {},
   "outputs": [],
   "source": [
    "model.compile(optimizer = 'adam',\n",
    "              loss = 'binary_crossentropy',\n",
    "              metrics = ['accuracy'])"
   ]
  },
  {
   "cell_type": "code",
   "execution_count": 120,
   "id": "7daba515-5e22-4087-8c3e-f350e29d04ca",
   "metadata": {},
   "outputs": [
    {
     "name": "stdout",
     "output_type": "stream",
     "text": [
      "Model: \"sequential_2\"\n",
      "_________________________________________________________________\n",
      " Layer (type)                Output Shape              Param #   \n",
      "=================================================================\n",
      " dense_12 (Dense)            (None, 32)                288       \n",
      "                                                                 \n",
      " dense_13 (Dense)            (None, 16)                528       \n",
      "                                                                 \n",
      " dense_14 (Dense)            (None, 1)                 17        \n",
      "                                                                 \n",
      "=================================================================\n",
      "Total params: 833\n",
      "Trainable params: 833\n",
      "Non-trainable params: 0\n",
      "_________________________________________________________________\n"
     ]
    }
   ],
   "source": [
    "model.summary()"
   ]
  },
  {
   "cell_type": "code",
   "execution_count": 121,
   "id": "8e608de7-d7a0-4a68-8199-1043d56c5f55",
   "metadata": {},
   "outputs": [
    {
     "name": "stdout",
     "output_type": "stream",
     "text": [
      "Epoch 1/200\n",
      "16/16 [==============================] - 1s 2ms/step - loss: 0.6910 - accuracy: 0.5580\n",
      "Epoch 2/200\n",
      "16/16 [==============================] - 0s 3ms/step - loss: 0.6335 - accuracy: 0.7006\n",
      "Epoch 3/200\n",
      "16/16 [==============================] - 0s 3ms/step - loss: 0.5822 - accuracy: 0.7352\n",
      "Epoch 4/200\n",
      "16/16 [==============================] - 0s 2ms/step - loss: 0.5410 - accuracy: 0.7332\n",
      "Epoch 5/200\n",
      "16/16 [==============================] - 0s 5ms/step - loss: 0.5089 - accuracy: 0.7454\n",
      "Epoch 6/200\n",
      "16/16 [==============================] - 0s 5ms/step - loss: 0.4879 - accuracy: 0.7515\n",
      "Epoch 7/200\n",
      "16/16 [==============================] - 0s 4ms/step - loss: 0.4730 - accuracy: 0.7617\n",
      "Epoch 8/200\n",
      "16/16 [==============================] - 0s 4ms/step - loss: 0.4607 - accuracy: 0.7678\n",
      "Epoch 9/200\n",
      "16/16 [==============================] - 0s 3ms/step - loss: 0.4516 - accuracy: 0.7637\n",
      "Epoch 10/200\n",
      "16/16 [==============================] - 0s 2ms/step - loss: 0.4437 - accuracy: 0.7719\n",
      "Epoch 11/200\n",
      "16/16 [==============================] - 0s 3ms/step - loss: 0.4385 - accuracy: 0.7719\n",
      "Epoch 12/200\n",
      "16/16 [==============================] - 0s 2ms/step - loss: 0.4325 - accuracy: 0.7821\n",
      "Epoch 13/200\n",
      "16/16 [==============================] - 0s 2ms/step - loss: 0.4279 - accuracy: 0.7821\n",
      "Epoch 14/200\n",
      "16/16 [==============================] - 0s 1ms/step - loss: 0.4247 - accuracy: 0.7780\n",
      "Epoch 15/200\n",
      "16/16 [==============================] - 0s 2ms/step - loss: 0.4194 - accuracy: 0.7841\n",
      "Epoch 16/200\n",
      "16/16 [==============================] - 0s 2ms/step - loss: 0.4162 - accuracy: 0.7821\n",
      "Epoch 17/200\n",
      "16/16 [==============================] - 0s 2ms/step - loss: 0.4127 - accuracy: 0.7902\n",
      "Epoch 18/200\n",
      "16/16 [==============================] - 0s 2ms/step - loss: 0.4109 - accuracy: 0.7902\n",
      "Epoch 19/200\n",
      "16/16 [==============================] - 0s 3ms/step - loss: 0.4085 - accuracy: 0.7882\n",
      "Epoch 20/200\n",
      "16/16 [==============================] - 0s 2ms/step - loss: 0.4074 - accuracy: 0.7923\n",
      "Epoch 21/200\n",
      "16/16 [==============================] - 0s 2ms/step - loss: 0.4025 - accuracy: 0.7943\n",
      "Epoch 22/200\n",
      "16/16 [==============================] - 0s 2ms/step - loss: 0.4001 - accuracy: 0.7943\n",
      "Epoch 23/200\n",
      "16/16 [==============================] - 0s 2ms/step - loss: 0.3987 - accuracy: 0.7963\n",
      "Epoch 24/200\n",
      "16/16 [==============================] - 0s 2ms/step - loss: 0.3957 - accuracy: 0.8065\n",
      "Epoch 25/200\n",
      "16/16 [==============================] - 0s 2ms/step - loss: 0.3951 - accuracy: 0.8065\n",
      "Epoch 26/200\n",
      "16/16 [==============================] - 0s 2ms/step - loss: 0.3924 - accuracy: 0.8126\n",
      "Epoch 27/200\n",
      "16/16 [==============================] - 0s 3ms/step - loss: 0.3910 - accuracy: 0.8086\n",
      "Epoch 28/200\n",
      "16/16 [==============================] - 0s 2ms/step - loss: 0.3893 - accuracy: 0.8126\n",
      "Epoch 29/200\n",
      "16/16 [==============================] - 0s 2ms/step - loss: 0.3875 - accuracy: 0.8126\n",
      "Epoch 30/200\n",
      "16/16 [==============================] - 0s 2ms/step - loss: 0.3861 - accuracy: 0.8147\n",
      "Epoch 31/200\n",
      "16/16 [==============================] - 0s 2ms/step - loss: 0.3848 - accuracy: 0.8126\n",
      "Epoch 32/200\n",
      "16/16 [==============================] - 0s 2ms/step - loss: 0.3828 - accuracy: 0.8126\n",
      "Epoch 33/200\n",
      "16/16 [==============================] - 0s 2ms/step - loss: 0.3823 - accuracy: 0.8126\n",
      "Epoch 34/200\n",
      "16/16 [==============================] - 0s 2ms/step - loss: 0.3798 - accuracy: 0.8126\n",
      "Epoch 35/200\n",
      "16/16 [==============================] - 0s 2ms/step - loss: 0.3784 - accuracy: 0.8147\n",
      "Epoch 36/200\n",
      "16/16 [==============================] - 0s 2ms/step - loss: 0.3772 - accuracy: 0.8187\n",
      "Epoch 37/200\n",
      "16/16 [==============================] - 0s 2ms/step - loss: 0.3746 - accuracy: 0.8167\n",
      "Epoch 38/200\n",
      "16/16 [==============================] - 0s 2ms/step - loss: 0.3735 - accuracy: 0.8167\n",
      "Epoch 39/200\n",
      "16/16 [==============================] - 0s 3ms/step - loss: 0.3726 - accuracy: 0.8187\n",
      "Epoch 40/200\n",
      "16/16 [==============================] - 0s 2ms/step - loss: 0.3713 - accuracy: 0.8310\n",
      "Epoch 41/200\n",
      "16/16 [==============================] - 0s 3ms/step - loss: 0.3693 - accuracy: 0.8289\n",
      "Epoch 42/200\n",
      "16/16 [==============================] - 0s 3ms/step - loss: 0.3677 - accuracy: 0.8269\n",
      "Epoch 43/200\n",
      "16/16 [==============================] - 0s 2ms/step - loss: 0.3666 - accuracy: 0.8269\n",
      "Epoch 44/200\n",
      "16/16 [==============================] - 0s 2ms/step - loss: 0.3652 - accuracy: 0.8310\n",
      "Epoch 45/200\n",
      "16/16 [==============================] - 0s 3ms/step - loss: 0.3640 - accuracy: 0.8248\n",
      "Epoch 46/200\n",
      "16/16 [==============================] - 0s 3ms/step - loss: 0.3625 - accuracy: 0.8269\n",
      "Epoch 47/200\n",
      "16/16 [==============================] - 0s 2ms/step - loss: 0.3639 - accuracy: 0.8228\n",
      "Epoch 48/200\n",
      "16/16 [==============================] - 0s 3ms/step - loss: 0.3611 - accuracy: 0.8330\n",
      "Epoch 49/200\n",
      "16/16 [==============================] - 0s 2ms/step - loss: 0.3598 - accuracy: 0.8248\n",
      "Epoch 50/200\n",
      "16/16 [==============================] - 0s 2ms/step - loss: 0.3586 - accuracy: 0.8330\n",
      "Epoch 51/200\n",
      "16/16 [==============================] - 0s 2ms/step - loss: 0.3567 - accuracy: 0.8371\n",
      "Epoch 52/200\n",
      "16/16 [==============================] - 0s 2ms/step - loss: 0.3560 - accuracy: 0.8330\n",
      "Epoch 53/200\n",
      "16/16 [==============================] - 0s 2ms/step - loss: 0.3551 - accuracy: 0.8269\n",
      "Epoch 54/200\n",
      "16/16 [==============================] - 0s 2ms/step - loss: 0.3538 - accuracy: 0.8330\n",
      "Epoch 55/200\n",
      "16/16 [==============================] - 0s 2ms/step - loss: 0.3532 - accuracy: 0.8289\n",
      "Epoch 56/200\n",
      "16/16 [==============================] - 0s 2ms/step - loss: 0.3507 - accuracy: 0.8330\n",
      "Epoch 57/200\n",
      "16/16 [==============================] - 0s 3ms/step - loss: 0.3506 - accuracy: 0.8228\n",
      "Epoch 58/200\n",
      "16/16 [==============================] - 0s 2ms/step - loss: 0.3491 - accuracy: 0.8248\n",
      "Epoch 59/200\n",
      "16/16 [==============================] - 0s 2ms/step - loss: 0.3479 - accuracy: 0.8269\n",
      "Epoch 60/200\n",
      "16/16 [==============================] - 0s 2ms/step - loss: 0.3468 - accuracy: 0.8269\n",
      "Epoch 61/200\n",
      "16/16 [==============================] - 0s 2ms/step - loss: 0.3460 - accuracy: 0.8310\n",
      "Epoch 62/200\n",
      "16/16 [==============================] - 0s 2ms/step - loss: 0.3459 - accuracy: 0.8310\n",
      "Epoch 63/200\n",
      "16/16 [==============================] - 0s 2ms/step - loss: 0.3443 - accuracy: 0.8269\n",
      "Epoch 64/200\n",
      "16/16 [==============================] - 0s 2ms/step - loss: 0.3430 - accuracy: 0.8330\n",
      "Epoch 65/200\n",
      "16/16 [==============================] - 0s 3ms/step - loss: 0.3414 - accuracy: 0.8350\n",
      "Epoch 66/200\n",
      "16/16 [==============================] - 0s 2ms/step - loss: 0.3407 - accuracy: 0.8371\n",
      "Epoch 67/200\n",
      "16/16 [==============================] - 0s 3ms/step - loss: 0.3397 - accuracy: 0.8350\n",
      "Epoch 68/200\n",
      "16/16 [==============================] - 0s 2ms/step - loss: 0.3379 - accuracy: 0.8350\n",
      "Epoch 69/200\n",
      "16/16 [==============================] - 0s 3ms/step - loss: 0.3380 - accuracy: 0.8350\n",
      "Epoch 70/200\n",
      "16/16 [==============================] - 0s 2ms/step - loss: 0.3371 - accuracy: 0.8310\n",
      "Epoch 71/200\n",
      "16/16 [==============================] - 0s 2ms/step - loss: 0.3351 - accuracy: 0.8391\n",
      "Epoch 72/200\n",
      "16/16 [==============================] - 0s 3ms/step - loss: 0.3350 - accuracy: 0.8473\n",
      "Epoch 73/200\n",
      "16/16 [==============================] - 0s 2ms/step - loss: 0.3329 - accuracy: 0.8371\n",
      "Epoch 74/200\n",
      "16/16 [==============================] - 0s 2ms/step - loss: 0.3320 - accuracy: 0.8493\n",
      "Epoch 75/200\n",
      "16/16 [==============================] - 0s 2ms/step - loss: 0.3307 - accuracy: 0.8452\n",
      "Epoch 76/200\n",
      "16/16 [==============================] - 0s 2ms/step - loss: 0.3297 - accuracy: 0.8452\n",
      "Epoch 77/200\n",
      "16/16 [==============================] - 0s 2ms/step - loss: 0.3284 - accuracy: 0.8432\n",
      "Epoch 78/200\n",
      "16/16 [==============================] - 0s 2ms/step - loss: 0.3275 - accuracy: 0.8473\n",
      "Epoch 79/200\n",
      "16/16 [==============================] - 0s 2ms/step - loss: 0.3268 - accuracy: 0.8493\n",
      "Epoch 80/200\n",
      "16/16 [==============================] - 0s 2ms/step - loss: 0.3253 - accuracy: 0.8493\n",
      "Epoch 81/200\n",
      "16/16 [==============================] - 0s 3ms/step - loss: 0.3256 - accuracy: 0.8432\n",
      "Epoch 82/200\n",
      "16/16 [==============================] - 0s 2ms/step - loss: 0.3228 - accuracy: 0.8513\n",
      "Epoch 83/200\n",
      "16/16 [==============================] - 0s 2ms/step - loss: 0.3217 - accuracy: 0.8493\n",
      "Epoch 84/200\n",
      "16/16 [==============================] - 0s 2ms/step - loss: 0.3203 - accuracy: 0.8513\n",
      "Epoch 85/200\n",
      "16/16 [==============================] - 0s 2ms/step - loss: 0.3198 - accuracy: 0.8534\n",
      "Epoch 86/200\n",
      "16/16 [==============================] - 0s 2ms/step - loss: 0.3187 - accuracy: 0.8493\n",
      "Epoch 87/200\n",
      "16/16 [==============================] - 0s 2ms/step - loss: 0.3171 - accuracy: 0.8574\n",
      "Epoch 88/200\n",
      "16/16 [==============================] - 0s 2ms/step - loss: 0.3159 - accuracy: 0.8574\n",
      "Epoch 89/200\n",
      "16/16 [==============================] - 0s 2ms/step - loss: 0.3163 - accuracy: 0.8595\n",
      "Epoch 90/200\n",
      "16/16 [==============================] - 0s 2ms/step - loss: 0.3156 - accuracy: 0.8554\n",
      "Epoch 91/200\n",
      "16/16 [==============================] - 0s 2ms/step - loss: 0.3138 - accuracy: 0.8534\n",
      "Epoch 92/200\n",
      "16/16 [==============================] - 0s 2ms/step - loss: 0.3123 - accuracy: 0.8554\n",
      "Epoch 93/200\n",
      "16/16 [==============================] - 0s 3ms/step - loss: 0.3117 - accuracy: 0.8595\n",
      "Epoch 94/200\n",
      "16/16 [==============================] - 0s 2ms/step - loss: 0.3105 - accuracy: 0.8554\n",
      "Epoch 95/200\n",
      "16/16 [==============================] - 0s 2ms/step - loss: 0.3092 - accuracy: 0.8595\n",
      "Epoch 96/200\n",
      "16/16 [==============================] - 0s 2ms/step - loss: 0.3086 - accuracy: 0.8615\n",
      "Epoch 97/200\n",
      "16/16 [==============================] - 0s 2ms/step - loss: 0.3067 - accuracy: 0.8615\n",
      "Epoch 98/200\n",
      "16/16 [==============================] - 0s 2ms/step - loss: 0.3050 - accuracy: 0.8615\n",
      "Epoch 99/200\n",
      "16/16 [==============================] - 0s 2ms/step - loss: 0.3044 - accuracy: 0.8615\n",
      "Epoch 100/200\n",
      "16/16 [==============================] - 0s 2ms/step - loss: 0.3035 - accuracy: 0.8615\n",
      "Epoch 101/200\n",
      "16/16 [==============================] - 0s 2ms/step - loss: 0.3025 - accuracy: 0.8635\n",
      "Epoch 102/200\n",
      "16/16 [==============================] - 0s 3ms/step - loss: 0.3009 - accuracy: 0.8595\n",
      "Epoch 103/200\n",
      "16/16 [==============================] - 0s 2ms/step - loss: 0.3002 - accuracy: 0.8595\n",
      "Epoch 104/200\n",
      "16/16 [==============================] - 0s 2ms/step - loss: 0.2997 - accuracy: 0.8615\n",
      "Epoch 105/200\n",
      "16/16 [==============================] - 0s 2ms/step - loss: 0.2979 - accuracy: 0.8635\n",
      "Epoch 106/200\n",
      "16/16 [==============================] - 0s 2ms/step - loss: 0.2970 - accuracy: 0.8635\n",
      "Epoch 107/200\n",
      "16/16 [==============================] - 0s 2ms/step - loss: 0.2963 - accuracy: 0.8615\n",
      "Epoch 108/200\n",
      "16/16 [==============================] - 0s 2ms/step - loss: 0.2961 - accuracy: 0.8615\n",
      "Epoch 109/200\n",
      "16/16 [==============================] - 0s 2ms/step - loss: 0.2937 - accuracy: 0.8595\n",
      "Epoch 110/200\n",
      "16/16 [==============================] - 0s 2ms/step - loss: 0.2922 - accuracy: 0.8635\n",
      "Epoch 111/200\n",
      "16/16 [==============================] - 0s 2ms/step - loss: 0.2920 - accuracy: 0.8635\n",
      "Epoch 112/200\n",
      "16/16 [==============================] - 0s 2ms/step - loss: 0.2908 - accuracy: 0.8635\n",
      "Epoch 113/200\n",
      "16/16 [==============================] - 0s 2ms/step - loss: 0.2909 - accuracy: 0.8615\n",
      "Epoch 114/200\n",
      "16/16 [==============================] - 0s 2ms/step - loss: 0.2884 - accuracy: 0.8656\n",
      "Epoch 115/200\n",
      "16/16 [==============================] - 0s 2ms/step - loss: 0.2886 - accuracy: 0.8635\n",
      "Epoch 116/200\n",
      "16/16 [==============================] - 0s 2ms/step - loss: 0.2862 - accuracy: 0.8656\n",
      "Epoch 117/200\n",
      "16/16 [==============================] - 0s 2ms/step - loss: 0.2856 - accuracy: 0.8656\n",
      "Epoch 118/200\n",
      "16/16 [==============================] - 0s 2ms/step - loss: 0.2847 - accuracy: 0.8635\n",
      "Epoch 119/200\n",
      "16/16 [==============================] - 0s 2ms/step - loss: 0.2838 - accuracy: 0.8635\n",
      "Epoch 120/200\n",
      "16/16 [==============================] - 0s 2ms/step - loss: 0.2823 - accuracy: 0.8676\n",
      "Epoch 121/200\n",
      "16/16 [==============================] - 0s 2ms/step - loss: 0.2824 - accuracy: 0.8676\n",
      "Epoch 122/200\n",
      "16/16 [==============================] - 0s 2ms/step - loss: 0.2820 - accuracy: 0.8676\n",
      "Epoch 123/200\n",
      "16/16 [==============================] - 0s 3ms/step - loss: 0.2795 - accuracy: 0.8697\n",
      "Epoch 124/200\n",
      "16/16 [==============================] - 0s 2ms/step - loss: 0.2792 - accuracy: 0.8656\n",
      "Epoch 125/200\n",
      "16/16 [==============================] - 0s 2ms/step - loss: 0.2778 - accuracy: 0.8676\n",
      "Epoch 126/200\n",
      "16/16 [==============================] - 0s 2ms/step - loss: 0.2758 - accuracy: 0.8676\n",
      "Epoch 127/200\n",
      "16/16 [==============================] - 0s 2ms/step - loss: 0.2771 - accuracy: 0.8697\n",
      "Epoch 128/200\n",
      "16/16 [==============================] - 0s 2ms/step - loss: 0.2739 - accuracy: 0.8697\n",
      "Epoch 129/200\n",
      "16/16 [==============================] - 0s 1ms/step - loss: 0.2736 - accuracy: 0.8717\n",
      "Epoch 130/200\n",
      "16/16 [==============================] - 0s 2ms/step - loss: 0.2720 - accuracy: 0.8737\n",
      "Epoch 131/200\n",
      "16/16 [==============================] - 0s 3ms/step - loss: 0.2706 - accuracy: 0.8697\n",
      "Epoch 132/200\n",
      "16/16 [==============================] - 0s 2ms/step - loss: 0.2705 - accuracy: 0.8717\n",
      "Epoch 133/200\n",
      "16/16 [==============================] - 0s 2ms/step - loss: 0.2681 - accuracy: 0.8717\n",
      "Epoch 134/200\n",
      "16/16 [==============================] - 0s 2ms/step - loss: 0.2672 - accuracy: 0.8758\n",
      "Epoch 135/200\n",
      "16/16 [==============================] - 0s 2ms/step - loss: 0.2664 - accuracy: 0.8737\n",
      "Epoch 136/200\n",
      "16/16 [==============================] - 0s 2ms/step - loss: 0.2662 - accuracy: 0.8778\n",
      "Epoch 137/200\n",
      "16/16 [==============================] - 0s 2ms/step - loss: 0.2652 - accuracy: 0.8697\n",
      "Epoch 138/200\n",
      "16/16 [==============================] - 0s 2ms/step - loss: 0.2653 - accuracy: 0.8758\n",
      "Epoch 139/200\n",
      "16/16 [==============================] - 0s 2ms/step - loss: 0.2653 - accuracy: 0.8778\n",
      "Epoch 140/200\n",
      "16/16 [==============================] - 0s 2ms/step - loss: 0.2629 - accuracy: 0.8798\n",
      "Epoch 141/200\n",
      "16/16 [==============================] - 0s 3ms/step - loss: 0.2611 - accuracy: 0.8717\n",
      "Epoch 142/200\n",
      "16/16 [==============================] - 0s 2ms/step - loss: 0.2596 - accuracy: 0.8798\n",
      "Epoch 143/200\n",
      "16/16 [==============================] - 0s 2ms/step - loss: 0.2592 - accuracy: 0.8819\n",
      "Epoch 144/200\n",
      "16/16 [==============================] - 0s 2ms/step - loss: 0.2580 - accuracy: 0.8819\n",
      "Epoch 145/200\n",
      "16/16 [==============================] - 0s 2ms/step - loss: 0.2569 - accuracy: 0.8839\n",
      "Epoch 146/200\n",
      "16/16 [==============================] - 0s 2ms/step - loss: 0.2559 - accuracy: 0.8819\n",
      "Epoch 147/200\n",
      "16/16 [==============================] - 0s 2ms/step - loss: 0.2559 - accuracy: 0.8737\n",
      "Epoch 148/200\n",
      "16/16 [==============================] - 0s 3ms/step - loss: 0.2539 - accuracy: 0.8778\n",
      "Epoch 149/200\n",
      "16/16 [==============================] - 0s 2ms/step - loss: 0.2529 - accuracy: 0.8859\n",
      "Epoch 150/200\n",
      "16/16 [==============================] - 0s 2ms/step - loss: 0.2512 - accuracy: 0.8819\n",
      "Epoch 151/200\n",
      "16/16 [==============================] - 0s 2ms/step - loss: 0.2531 - accuracy: 0.8839\n",
      "Epoch 152/200\n",
      "16/16 [==============================] - 0s 2ms/step - loss: 0.2482 - accuracy: 0.8900\n",
      "Epoch 153/200\n",
      "16/16 [==============================] - 0s 1ms/step - loss: 0.2498 - accuracy: 0.8961\n",
      "Epoch 154/200\n",
      "16/16 [==============================] - 0s 2ms/step - loss: 0.2472 - accuracy: 0.8859\n",
      "Epoch 155/200\n",
      "16/16 [==============================] - 0s 2ms/step - loss: 0.2474 - accuracy: 0.8900\n",
      "Epoch 156/200\n",
      "16/16 [==============================] - 0s 2ms/step - loss: 0.2449 - accuracy: 0.8900\n",
      "Epoch 157/200\n",
      "16/16 [==============================] - 0s 2ms/step - loss: 0.2446 - accuracy: 0.8961\n",
      "Epoch 158/200\n",
      "16/16 [==============================] - 0s 2ms/step - loss: 0.2426 - accuracy: 0.8941\n",
      "Epoch 159/200\n",
      "16/16 [==============================] - 0s 2ms/step - loss: 0.2429 - accuracy: 0.8900\n",
      "Epoch 160/200\n",
      "16/16 [==============================] - 0s 2ms/step - loss: 0.2416 - accuracy: 0.8921\n",
      "Epoch 161/200\n",
      "16/16 [==============================] - 0s 2ms/step - loss: 0.2419 - accuracy: 0.8921\n",
      "Epoch 162/200\n",
      "16/16 [==============================] - 0s 2ms/step - loss: 0.2401 - accuracy: 0.8900\n",
      "Epoch 163/200\n",
      "16/16 [==============================] - 0s 2ms/step - loss: 0.2384 - accuracy: 0.8982\n",
      "Epoch 164/200\n",
      "16/16 [==============================] - 0s 3ms/step - loss: 0.2364 - accuracy: 0.9022\n",
      "Epoch 165/200\n",
      "16/16 [==============================] - 0s 3ms/step - loss: 0.2365 - accuracy: 0.8982\n",
      "Epoch 166/200\n",
      "16/16 [==============================] - 0s 2ms/step - loss: 0.2373 - accuracy: 0.8900\n",
      "Epoch 167/200\n",
      "16/16 [==============================] - 0s 2ms/step - loss: 0.2363 - accuracy: 0.9002\n",
      "Epoch 168/200\n",
      "16/16 [==============================] - 0s 2ms/step - loss: 0.2338 - accuracy: 0.8982\n",
      "Epoch 169/200\n",
      "16/16 [==============================] - 0s 2ms/step - loss: 0.2320 - accuracy: 0.8941\n",
      "Epoch 170/200\n",
      "16/16 [==============================] - 0s 2ms/step - loss: 0.2315 - accuracy: 0.9002\n",
      "Epoch 171/200\n",
      "16/16 [==============================] - 0s 2ms/step - loss: 0.2328 - accuracy: 0.9002\n",
      "Epoch 172/200\n",
      "16/16 [==============================] - 0s 2ms/step - loss: 0.2321 - accuracy: 0.8982\n",
      "Epoch 173/200\n",
      "16/16 [==============================] - 0s 2ms/step - loss: 0.2276 - accuracy: 0.9022\n",
      "Epoch 174/200\n",
      "16/16 [==============================] - 0s 2ms/step - loss: 0.2279 - accuracy: 0.9022\n",
      "Epoch 175/200\n",
      "16/16 [==============================] - 0s 2ms/step - loss: 0.2255 - accuracy: 0.9063\n",
      "Epoch 176/200\n",
      "16/16 [==============================] - 0s 2ms/step - loss: 0.2244 - accuracy: 0.9022\n",
      "Epoch 177/200\n",
      "16/16 [==============================] - 0s 2ms/step - loss: 0.2240 - accuracy: 0.9084\n",
      "Epoch 178/200\n",
      "16/16 [==============================] - 0s 3ms/step - loss: 0.2229 - accuracy: 0.9063\n",
      "Epoch 179/200\n",
      "16/16 [==============================] - 0s 2ms/step - loss: 0.2220 - accuracy: 0.9084\n",
      "Epoch 180/200\n",
      "16/16 [==============================] - 0s 2ms/step - loss: 0.2215 - accuracy: 0.9063\n",
      "Epoch 181/200\n",
      "16/16 [==============================] - 0s 2ms/step - loss: 0.2201 - accuracy: 0.9084\n",
      "Epoch 182/200\n",
      "16/16 [==============================] - 0s 2ms/step - loss: 0.2189 - accuracy: 0.9104\n",
      "Epoch 183/200\n",
      "16/16 [==============================] - 0s 2ms/step - loss: 0.2168 - accuracy: 0.9104\n",
      "Epoch 184/200\n",
      "16/16 [==============================] - 0s 2ms/step - loss: 0.2155 - accuracy: 0.9145\n",
      "Epoch 185/200\n",
      "16/16 [==============================] - 0s 2ms/step - loss: 0.2161 - accuracy: 0.9084\n",
      "Epoch 186/200\n",
      "16/16 [==============================] - 0s 2ms/step - loss: 0.2134 - accuracy: 0.9124\n",
      "Epoch 187/200\n",
      "16/16 [==============================] - 0s 2ms/step - loss: 0.2129 - accuracy: 0.9145\n",
      "Epoch 188/200\n",
      "16/16 [==============================] - 0s 2ms/step - loss: 0.2122 - accuracy: 0.9145\n",
      "Epoch 189/200\n",
      "16/16 [==============================] - 0s 2ms/step - loss: 0.2113 - accuracy: 0.9206\n",
      "Epoch 190/200\n",
      "16/16 [==============================] - 0s 2ms/step - loss: 0.2095 - accuracy: 0.9124\n",
      "Epoch 191/200\n",
      "16/16 [==============================] - 0s 2ms/step - loss: 0.2093 - accuracy: 0.9124\n",
      "Epoch 192/200\n",
      "16/16 [==============================] - 0s 2ms/step - loss: 0.2093 - accuracy: 0.9165\n",
      "Epoch 193/200\n",
      "16/16 [==============================] - 0s 2ms/step - loss: 0.2066 - accuracy: 0.9185\n",
      "Epoch 194/200\n",
      "16/16 [==============================] - 0s 2ms/step - loss: 0.2058 - accuracy: 0.9185\n",
      "Epoch 195/200\n",
      "16/16 [==============================] - 0s 2ms/step - loss: 0.2060 - accuracy: 0.9124\n",
      "Epoch 196/200\n",
      "16/16 [==============================] - 0s 2ms/step - loss: 0.2042 - accuracy: 0.9185\n",
      "Epoch 197/200\n",
      "16/16 [==============================] - 0s 2ms/step - loss: 0.2018 - accuracy: 0.9185\n",
      "Epoch 198/200\n",
      "16/16 [==============================] - 0s 2ms/step - loss: 0.2028 - accuracy: 0.9165\n",
      "Epoch 199/200\n",
      "16/16 [==============================] - 0s 2ms/step - loss: 0.2005 - accuracy: 0.9165\n",
      "Epoch 200/200\n",
      "16/16 [==============================] - 0s 2ms/step - loss: 0.2008 - accuracy: 0.9145\n"
     ]
    },
    {
     "data": {
      "text/plain": [
       "<keras.callbacks.History at 0x284170a3850>"
      ]
     },
     "execution_count": 121,
     "metadata": {},
     "output_type": "execute_result"
    }
   ],
   "source": [
    "model.fit(X_train, y_train, epochs=200)"
   ]
  },
  {
   "cell_type": "code",
   "execution_count": 149,
   "id": "7accfbaa-487d-40a1-8cde-00d68aa1af41",
   "metadata": {},
   "outputs": [
    {
     "name": "stdout",
     "output_type": "stream",
     "text": [
      "Training Accuracy: 91.45%\n",
      "\n",
      "Testing Accuracy: 72.08%\n",
      "\n"
     ]
    }
   ],
   "source": [
    "# Results - Accuracy\n",
    "scores = model.evaluate(X_train, y_train, verbose=False)\n",
    "print(\"Training Accuracy: %.2f%%\\n\" % (scores[1]*100))\n",
    "scores = model.evaluate(X_test, y_test, verbose=False)\n",
    "print(\"Testing Accuracy: %.2f%%\\n\" % (scores[1]*100))"
   ]
  },
  {
   "cell_type": "code",
   "execution_count": 122,
   "id": "b8e7f06c-f374-4842-ae93-5e8b13cdb23b",
   "metadata": {},
   "outputs": [],
   "source": [
    "from sklearn.metrics import confusion_matrix\n",
    "import seaborn as sns"
   ]
  },
  {
   "cell_type": "code",
   "execution_count": 128,
   "id": "183eb297-711b-4ef1-8e82-8f3bb69784d2",
   "metadata": {},
   "outputs": [
    {
     "name": "stdout",
     "output_type": "stream",
     "text": [
      "5/5 [==============================] - 0s 3ms/step\n"
     ]
    }
   ],
   "source": [
    "y_test_pred = model.predict(X_test)"
   ]
  },
  {
   "cell_type": "code",
   "execution_count": 146,
   "id": "a2e5d633-7fb0-4541-b19a-9c3e8d022cc8",
   "metadata": {},
   "outputs": [
    {
     "name": "stdout",
     "output_type": "stream",
     "text": [
      "5/5 [==============================] - 0s 3ms/step\n"
     ]
    },
    {
     "ename": "ValueError",
     "evalue": "Classification metrics can't handle a mix of binary and continuous targets",
     "output_type": "error",
     "traceback": [
      "\u001b[1;31m---------------------------------------------------------------------------\u001b[0m",
      "\u001b[1;31mValueError\u001b[0m                                Traceback (most recent call last)",
      "\u001b[1;32m~\\AppData\\Local\\Temp/ipykernel_11836/3005440911.py\u001b[0m in \u001b[0;36m<module>\u001b[1;34m\u001b[0m\n\u001b[0;32m      1\u001b[0m \u001b[1;31m# Results - Confusion Matrix\u001b[0m\u001b[1;33m\u001b[0m\u001b[1;33m\u001b[0m\u001b[0m\n\u001b[0;32m      2\u001b[0m \u001b[0my_test_pred\u001b[0m \u001b[1;33m=\u001b[0m \u001b[0mmodel\u001b[0m\u001b[1;33m.\u001b[0m\u001b[0mpredict\u001b[0m\u001b[1;33m(\u001b[0m\u001b[0mX_test\u001b[0m\u001b[1;33m)\u001b[0m\u001b[1;33m\u001b[0m\u001b[1;33m\u001b[0m\u001b[0m\n\u001b[1;32m----> 3\u001b[1;33m \u001b[0mc_matrix\u001b[0m \u001b[1;33m=\u001b[0m \u001b[0mconfusion_matrix\u001b[0m\u001b[1;33m(\u001b[0m\u001b[0my_test\u001b[0m\u001b[1;33m,\u001b[0m \u001b[0my_test_pred\u001b[0m\u001b[1;33m)\u001b[0m\u001b[1;33m\u001b[0m\u001b[1;33m\u001b[0m\u001b[0m\n\u001b[0m\u001b[0;32m      4\u001b[0m \u001b[0max\u001b[0m \u001b[1;33m=\u001b[0m \u001b[0msns\u001b[0m\u001b[1;33m.\u001b[0m\u001b[0mheatmap\u001b[0m\u001b[1;33m(\u001b[0m\u001b[0mc_matrix\u001b[0m\u001b[1;33m,\u001b[0m \u001b[0mannot\u001b[0m\u001b[1;33m=\u001b[0m\u001b[1;32mTrue\u001b[0m\u001b[1;33m,\u001b[0m \u001b[0mxticklabels\u001b[0m\u001b[1;33m=\u001b[0m\u001b[1;33m[\u001b[0m\u001b[1;34m'No Diabetes'\u001b[0m\u001b[1;33m,\u001b[0m \u001b[1;34m'Diabetes'\u001b[0m\u001b[1;33m]\u001b[0m\u001b[1;33m,\u001b[0m \u001b[0myticklabels\u001b[0m\u001b[1;33m=\u001b[0m\u001b[1;33m[\u001b[0m\u001b[1;34m'No Diabetes'\u001b[0m\u001b[1;33m,\u001b[0m \u001b[1;34m'Diabetes'\u001b[0m\u001b[1;33m]\u001b[0m\u001b[1;33m,\u001b[0m \u001b[0mcbar\u001b[0m\u001b[1;33m=\u001b[0m\u001b[1;32mFalse\u001b[0m\u001b[1;33m,\u001b[0m \u001b[0mcmap\u001b[0m\u001b[1;33m=\u001b[0m\u001b[1;34m'Blues'\u001b[0m\u001b[1;33m)\u001b[0m\u001b[1;33m\u001b[0m\u001b[1;33m\u001b[0m\u001b[0m\n\u001b[0;32m      5\u001b[0m \u001b[0max\u001b[0m\u001b[1;33m.\u001b[0m\u001b[0mset_xlabel\u001b[0m\u001b[1;33m(\u001b[0m\u001b[1;34m\"Prediction\"\u001b[0m\u001b[1;33m)\u001b[0m\u001b[1;33m\u001b[0m\u001b[1;33m\u001b[0m\u001b[0m\n",
      "\u001b[1;32m~\\anaconda3\\lib\\site-packages\\sklearn\\metrics\\_classification.py\u001b[0m in \u001b[0;36mconfusion_matrix\u001b[1;34m(y_true, y_pred, labels, sample_weight, normalize)\u001b[0m\n\u001b[0;32m    305\u001b[0m     \u001b[1;33m(\u001b[0m\u001b[1;36m0\u001b[0m\u001b[1;33m,\u001b[0m \u001b[1;36m2\u001b[0m\u001b[1;33m,\u001b[0m \u001b[1;36m1\u001b[0m\u001b[1;33m,\u001b[0m \u001b[1;36m1\u001b[0m\u001b[1;33m)\u001b[0m\u001b[1;33m\u001b[0m\u001b[1;33m\u001b[0m\u001b[0m\n\u001b[0;32m    306\u001b[0m     \"\"\"\n\u001b[1;32m--> 307\u001b[1;33m     \u001b[0my_type\u001b[0m\u001b[1;33m,\u001b[0m \u001b[0my_true\u001b[0m\u001b[1;33m,\u001b[0m \u001b[0my_pred\u001b[0m \u001b[1;33m=\u001b[0m \u001b[0m_check_targets\u001b[0m\u001b[1;33m(\u001b[0m\u001b[0my_true\u001b[0m\u001b[1;33m,\u001b[0m \u001b[0my_pred\u001b[0m\u001b[1;33m)\u001b[0m\u001b[1;33m\u001b[0m\u001b[1;33m\u001b[0m\u001b[0m\n\u001b[0m\u001b[0;32m    308\u001b[0m     \u001b[1;32mif\u001b[0m \u001b[0my_type\u001b[0m \u001b[1;32mnot\u001b[0m \u001b[1;32min\u001b[0m \u001b[1;33m(\u001b[0m\u001b[1;34m\"binary\"\u001b[0m\u001b[1;33m,\u001b[0m \u001b[1;34m\"multiclass\"\u001b[0m\u001b[1;33m)\u001b[0m\u001b[1;33m:\u001b[0m\u001b[1;33m\u001b[0m\u001b[1;33m\u001b[0m\u001b[0m\n\u001b[0;32m    309\u001b[0m         \u001b[1;32mraise\u001b[0m \u001b[0mValueError\u001b[0m\u001b[1;33m(\u001b[0m\u001b[1;34m\"%s is not supported\"\u001b[0m \u001b[1;33m%\u001b[0m \u001b[0my_type\u001b[0m\u001b[1;33m)\u001b[0m\u001b[1;33m\u001b[0m\u001b[1;33m\u001b[0m\u001b[0m\n",
      "\u001b[1;32m~\\anaconda3\\lib\\site-packages\\sklearn\\metrics\\_classification.py\u001b[0m in \u001b[0;36m_check_targets\u001b[1;34m(y_true, y_pred)\u001b[0m\n\u001b[0;32m     91\u001b[0m \u001b[1;33m\u001b[0m\u001b[0m\n\u001b[0;32m     92\u001b[0m     \u001b[1;32mif\u001b[0m \u001b[0mlen\u001b[0m\u001b[1;33m(\u001b[0m\u001b[0my_type\u001b[0m\u001b[1;33m)\u001b[0m \u001b[1;33m>\u001b[0m \u001b[1;36m1\u001b[0m\u001b[1;33m:\u001b[0m\u001b[1;33m\u001b[0m\u001b[1;33m\u001b[0m\u001b[0m\n\u001b[1;32m---> 93\u001b[1;33m         raise ValueError(\n\u001b[0m\u001b[0;32m     94\u001b[0m             \"Classification metrics can't handle a mix of {0} and {1} targets\".format(\n\u001b[0;32m     95\u001b[0m                 \u001b[0mtype_true\u001b[0m\u001b[1;33m,\u001b[0m \u001b[0mtype_pred\u001b[0m\u001b[1;33m\u001b[0m\u001b[1;33m\u001b[0m\u001b[0m\n",
      "\u001b[1;31mValueError\u001b[0m: Classification metrics can't handle a mix of binary and continuous targets"
     ]
    }
   ],
   "source": [
    "# Results - Confusion Matrix\n",
    "y_test_pred = model.predict(X_test)\n",
    "c_matrix = confusion_matrix(y_test, y_test_pred)\n",
    "ax = sns.heatmap(c_matrix, annot=True, xticklabels=['No Diabetes', 'Diabetes'], yticklabels=['No Diabetes', 'Diabetes'], cbar=False, cmap='Blues')\n",
    "ax.set_xlabel(\"Prediction\")\n",
    "ax.set_ylabel(\"Actual\")\n",
    "plt.show()\n",
    "plt.clf()"
   ]
  },
  {
   "cell_type": "code",
   "execution_count": 148,
   "id": "b59796bd-86c8-4414-8fb7-32f2e946cbb4",
   "metadata": {},
   "outputs": [
    {
     "name": "stdout",
     "output_type": "stream",
     "text": [
      "5/5 [==============================] - 0s 5ms/step\n"
     ]
    },
    {
     "data": {
      "image/png": "[encoded data removed]",
      "text/plain": [
       "<Figure size 432x288 with 1 Axes>"
      ]
     },
     "metadata": {
      "needs_background": "light"
     },
     "output_type": "display_data"
    },
    {
     "data": {
      "text/plain": [
       "<Figure size 432x288 with 0 Axes>"
      ]
     },
     "metadata": {},
     "output_type": "display_data"
    }
   ],
   "source": [
    "# Results - ROC Curve\n",
    "\n",
    "from sklearn.metrics import roc_curve\n",
    "\n",
    "\n",
    "y_test_pred_probs = model.predict(X_test)\n",
    "FPR, TPR, _ = roc_curve(y_test, y_test_pred_probs)\n",
    "plt.plot(FPR, TPR)\n",
    "plt.plot([0,1],[0,1],'--', color='black') #diagonal line\n",
    "plt.title('ROC Curve')\n",
    "plt.xlabel('False Positive Rate')\n",
    "plt.ylabel('True Positive Rate')\n",
    "plt.show()\n",
    "plt.clf()"
   ]
  },
  {
   "cell_type": "code",
   "execution_count": null,
   "id": "1c8e662c-8dbb-4cfd-944b-c56c5326f445",
   "metadata": {},
   "outputs": [],
   "source": []
  }
 ],
 "metadata": {
  "kernelspec": {
   "display_name": "Python 3 (ipykernel)",
   "language": "python",
   "name": "python3"
  },
  "language_info": {
   "codemirror_mode": {
    "name": "ipython",
    "version": 3
   },
   "file_extension": ".py",
   "mimetype": "text/x-python",
   "name": "python",
   "nbconvert_exporter": "python",
   "pygments_lexer": "ipython3",
   "version": "3.9.7"
  }
 },
 "nbformat": 4,
 "nbformat_minor": 5
}
