{
 "cells": [
  {
   "cell_type": "markdown",
   "id": "55fd1750-7ac1-4ae0-a84b-f0209006b68a",
   "metadata": {},
   "source": [
    "Setup and install virtual env within the juypter envrionment \n",
    "https://towardsdatascience.com/creating-and-using-virtual-environment-on-jupyter-notebook-with-python-db3f5afdd56a\n",
    "\n",
    "Link to the offical repo: https://github.com/PacktPublishing/Neural-Network-Projects-with-Python/tree/master/Chapter03"
   ]
  },
  {
   "cell_type": "code",
   "execution_count": null,
   "id": "bf06bf44-cc19-46c1-9fe1-86bb6a33e564",
   "metadata": {},
   "outputs": [],
   "source": []
  }
 ],
 "metadata": {
  "kernelspec": {
   "display_name": "Python 3 (ipykernel)",
   "language": "python",
   "name": "python3"
  },
  "language_info": {
   "codemirror_mode": {
    "name": "ipython",
    "version": 3
   },
   "file_extension": ".py",
   "mimetype": "text/x-python",
   "name": "python",
   "nbconvert_exporter": "python",
   "pygments_lexer": "ipython3",
   "version": "3.9.7"
  }
 },
 "nbformat": 4,
 "nbformat_minor": 5
}
