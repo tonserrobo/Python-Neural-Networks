{
 "cells": [
  {
   "cell_type": "markdown",
   "id": "55fd1750-7ac1-4ae0-a84b-f0209006b68a",
   "metadata": {},
   "source": [
    "Link to the offical repo: https://github.com/PacktPublishing/Neural-Network-Projects-with-Python/tree/master/Chapter03"
   ]
  },
  {
   "cell_type": "markdown",
   "id": "e5fd0b2b-da14-48f0-af91-5c76b12f0424",
   "metadata": {},
   "source": [
    "### Setting up Venv and adding to jypter notebooks \n",
    "Setup and install virtual env within the juypter envrionment \n",
    "https://towardsdatascience.com/creating-and-using-virtual-environment-on-jupyter-notebook-with-python-db3f5afdd56a"
   ]
  },
  {
   "cell_type": "raw",
   "id": "4051b50a-0d6b-4ace-95b0-2ab540d102cc",
   "metadata": {},
   "source": [
    "in anaconda cmd:\n",
    "    conda create -n myenv python=3.6\n",
    "    conda activate myenv / conda deactivate\n",
    "    \n",
    "in myenv anaconda cmd: \n",
    "    pip install --user ipykernel\n",
    "    python -m ipykernel install --user --name=myenv\n",
    "    \n",
    "relaunch jypter and select myenv from the list of kernals    "
   ]
  },
  {
   "cell_type": "code",
   "execution_count": 1,
   "id": "76cd1a65-872a-42d0-bf71-50b5856bdc41",
   "metadata": {},
   "outputs": [
    {
     "name": "stdout",
     "output_type": "stream",
     "text": [
      "Collecting matplotlib==3.0.2\n",
      "  Downloading matplotlib-3.0.2-cp36-cp36m-win_amd64.whl (8.9 MB)\n",
      "Collecting pandas==0.23.4\n",
      "  Downloading pandas-0.23.4-cp36-cp36m-win_amd64.whl (7.7 MB)\n",
      "Collecting keras==2.2.4\n",
      "  Downloading Keras-2.2.4-py2.py3-none-any.whl (312 kB)\n",
      "Collecting numpy==1.15.2\n",
      "  Downloading numpy-1.15.2-cp36-none-win_amd64.whl (13.5 MB)\n",
      "Collecting scikit-learn==0.20.2\n",
      "  Downloading scikit_learn-0.20.2-cp36-cp36m-win_amd64.whl (4.8 MB)\n",
      "Collecting cycler>=0.10\n",
      "  Downloading cycler-0.11.0-py3-none-any.whl (6.4 kB)\n",
      "Requirement already satisfied: python-dateutil>=2.1 in c:\\users\\tonyr\\appdata\\roaming\\python\\python36\\site-packages (from matplotlib==3.0.2->-r requirements.txt (line 1)) (2.8.2)\n",
      "Collecting kiwisolver>=1.0.1\n",
      "  Downloading kiwisolver-1.3.1-cp36-cp36m-win_amd64.whl (51 kB)\n",
      "Collecting pyparsing!=2.0.4,!=2.1.2,!=2.1.6,>=2.0.1\n",
      "  Downloading pyparsing-3.0.9-py3-none-any.whl (98 kB)\n",
      "Collecting pytz>=2011k\n",
      "  Downloading pytz-2022.2.1-py2.py3-none-any.whl (500 kB)\n",
      "Collecting pyyaml\n",
      "  Downloading PyYAML-6.0-cp36-cp36m-win_amd64.whl (153 kB)\n",
      "Requirement already satisfied: six>=1.9.0 in c:\\users\\tonyr\\appdata\\roaming\\python\\python36\\site-packages (from keras==2.2.4->-r requirements.txt (line 3)) (1.16.0)\n",
      "Collecting keras-applications>=1.0.6\n",
      "  Downloading Keras_Applications-1.0.8-py3-none-any.whl (50 kB)\n",
      "Collecting h5py\n",
      "  Downloading h5py-3.1.0-cp36-cp36m-win_amd64.whl (2.7 MB)\n",
      "Collecting scipy>=0.14\n",
      "  Downloading scipy-1.5.4-cp36-cp36m-win_amd64.whl (31.2 MB)\n",
      "Collecting keras-preprocessing>=1.0.5Note: you may need to restart the kernel to use updated packages.\n",
      "\n",
      "  Using cached Keras_Preprocessing-1.1.2-py2.py3-none-any.whl (42 kB)\n",
      "Collecting cached-property\n",
      "  Downloading cached_property-1.5.2-py2.py3-none-any.whl (7.6 kB)\n",
      "Installing collected packages: numpy, cached-property, h5py, scipy, pyyaml, pytz, pyparsing, kiwisolver, keras-preprocessing, keras-applications, cycler, scikit-learn, pandas, matplotlib, keras\n",
      "Successfully installed cached-property-1.5.2 cycler-0.11.0 h5py-3.1.0 keras-2.2.4 keras-applications-1.0.8 keras-preprocessing-1.1.2 kiwisolver-1.3.1 matplotlib-3.0.2 numpy-1.15.2 pandas-0.23.4 pyparsing-3.0.9 pytz-2022.2.1 pyyaml-6.0 scikit-learn-0.20.2 scipy-1.5.4\n"
     ]
    }
   ],
   "source": [
    "# install required libs from the requirements.txt file\n",
    "pip install -r requirements.txt"
   ]
  },
  {
   "cell_type": "markdown",
   "id": "2e36adcc-4ab7-4391-97de-5cd832623730",
   "metadata": {},
   "source": [
    "# NY Taxi faire Analysis"
   ]
  },
  {
   "cell_type": "code",
   "execution_count": null,
   "id": "db05af9e-2c4e-447b-b0a6-a8536a0475ab",
   "metadata": {},
   "outputs": [],
   "source": []
  }
 ],
 "metadata": {
  "kernelspec": {
   "display_name": "machine_learning",
   "language": "python",
   "name": "machine_learning"
  },
  "language_info": {
   "codemirror_mode": {
    "name": "ipython",
    "version": 3
   },
   "file_extension": ".py",
   "mimetype": "text/x-python",
   "name": "python",
   "nbconvert_exporter": "python",
   "pygments_lexer": "ipython3",
   "version": "3.6.13"
  }
 },
 "nbformat": 4,
 "nbformat_minor": 5
}
