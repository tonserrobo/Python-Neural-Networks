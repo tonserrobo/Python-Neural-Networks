{
 "cells": [
  {
   "cell_type": "raw",
   "id": "892ebf7c-c6ea-41fd-ad0f-edc54c7ca837",
   "metadata": {},
   "source": [
    "# Useful code\n",
    "https://www.kaggle.com/code/gianmarcoguarnier/motor-activity-as-biomarker-for-depression/notebook\n",
    "https://www.kaggle.com/code/muhammetzahitaydn/daily-stress-regression\n",
    "https://www.kaggle.com/code/docxian/depression-and-motor-activity"
   ]
  },
  {
   "cell_type": "markdown",
   "id": "f1be74e9-735e-45b9-9e63-8d2507dea774",
   "metadata": {},
   "source": [
    "## Notes - Aims + Objectives"
   ]
  },
  {
   "cell_type": "markdown",
   "id": "a16ea885-bcbc-45f0-b85c-6918add96936",
   "metadata": {},
   "source": [
    "This dataset is focused on the relationship between physical activity and depression - therefore, physical activity can be used as an indicator for depression among other features. "
   ]
  },
  {
   "cell_type": "code",
   "execution_count": null,
   "id": "73677ae0-b41a-4936-93da-a90a74c6b982",
   "metadata": {},
   "outputs": [],
   "source": []
  }
 ],
 "metadata": {
  "kernelspec": {
   "display_name": "Python 3 (ipykernel)",
   "language": "python",
   "name": "python3"
  },
  "language_info": {
   "codemirror_mode": {
    "name": "ipython",
    "version": 3
   },
   "file_extension": ".py",
   "mimetype": "text/x-python",
   "name": "python",
   "nbconvert_exporter": "python",
   "pygments_lexer": "ipython3",
   "version": "3.9.7"
  }
 },
 "nbformat": 4,
 "nbformat_minor": 5
}
