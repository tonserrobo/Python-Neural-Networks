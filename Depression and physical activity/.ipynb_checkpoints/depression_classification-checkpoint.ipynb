{
 "cells": [
  {
   "cell_type": "raw",
   "id": "892ebf7c-c6ea-41fd-ad0f-edc54c7ca837",
   "metadata": {},
   "source": [
    "# Useful code\n",
    "https://www.kaggle.com/code/gianmarcoguarnier/motor-activity-as-biomarker-for-depression/notebook\n",
    "https://www.kaggle.com/code/muhammetzahitaydn/daily-stress-regression\n",
    "https://www.kaggle.com/code/docxian/depression-and-motor-activity"
   ]
  },
  {
   "cell_type": "markdown",
   "id": "f1be74e9-735e-45b9-9e63-8d2507dea774",
   "metadata": {},
   "source": [
    "## Notes - Aims + Objectives"
   ]
  },
  {
   "cell_type": "markdown",
   "id": "a16ea885-bcbc-45f0-b85c-6918add96936",
   "metadata": {},
   "source": [
    "This dataset is focused on the relationship between physical activity and depression - therefore, physical activity can be used as an indicator for depression among other features. Montgomery-Asberg Depression Rating Scale (MADRS) is a psycometric tool used to asses the severity of depression in adults. "
   ]
  },
  {
   "cell_type": "code",
   "execution_count": 1,
   "id": "a68a8a4d-e1ac-47b3-a3a8-75c9b3ecb725",
   "metadata": {},
   "outputs": [],
   "source": [
    "import pandas as pd"
   ]
  },
  {
   "cell_type": "markdown",
   "id": "ae77b066-a304-4ff5-b415-5f6b65e856b4",
   "metadata": {},
   "source": [
    "## Condition Dataset"
   ]
  },
  {
   "cell_type": "markdown",
   "id": "0450dcb5-da91-433b-9e57-ab2d2efc1f4c",
   "metadata": {},
   "source": [
    "Read in an inital set from the condition macroset. Then iterate through all condtions and append to a condition master set with column 'set' denoting the ID of the respective set. The same is then applied for all control sets. Scores could be aggregating to the same sets however the timeseries data would need to be presented cumulativly - not sure if this is representative of MADRS"
   ]
  },
  {
   "cell_type": "code",
   "execution_count": 290,
   "id": "89c26f97-cd18-4db3-ad8b-3a10857bc363",
   "metadata": {},
   "outputs": [
    {
     "data": {
      "text/plain": [
       "(520231, 4)"
      ]
     },
     "execution_count": 290,
     "metadata": {},
     "output_type": "execute_result"
    }
   ],
   "source": [
    "''' Import all condition datasets '''\n",
    "\n",
    "condition_df = pd.DataFrame()\n",
    "\n",
    "for i in range(1,23):\n",
    "    filename = 'condition_' + str(i)\n",
    "    filepath = 'data/condition/' + filename + '.csv'\n",
    "    \n",
    "    df = pd.read_csv(filepath)\n",
    "    df['set'] = filename\n",
    "    condition_df = condition_df.append(df)\n",
    "\n",
    "condition_df.shape"
   ]
  },
  {
   "cell_type": "code",
   "execution_count": 291,
   "id": "2b465304-5bb6-4db8-b8c0-972b8726db40",
   "metadata": {},
   "outputs": [
    {
     "data": {
      "text/plain": [
       "timestamp    object\n",
       "date         object\n",
       "activity      int64\n",
       "set          object\n",
       "dtype: object"
      ]
     },
     "execution_count": 291,
     "metadata": {},
     "output_type": "execute_result"
    }
   ],
   "source": [
    "condition_df.dtypes"
   ]
  },
  {
   "cell_type": "code",
   "execution_count": 292,
   "id": "9c795d46-5262-4cf8-ab62-9997be4aaba0",
   "metadata": {},
   "outputs": [
    {
     "ename": "AttributeError",
     "evalue": "Can only use .dt accessor with datetimelike values",
     "output_type": "error",
     "traceback": [
      "\u001b[1;31m---------------------------------------------------------------------------\u001b[0m",
      "\u001b[1;31mAttributeError\u001b[0m                            Traceback (most recent call last)",
      "\u001b[1;32m~\\AppData\\Local\\Temp/ipykernel_16932/2113981978.py\u001b[0m in \u001b[0;36m<module>\u001b[1;34m\u001b[0m\n\u001b[0;32m      1\u001b[0m \u001b[0mcondition_df\u001b[0m\u001b[1;33m[\u001b[0m\u001b[1;34m'timestamp'\u001b[0m\u001b[1;33m]\u001b[0m \u001b[1;33m=\u001b[0m \u001b[0mpd\u001b[0m\u001b[1;33m.\u001b[0m\u001b[0mto_datetime\u001b[0m\u001b[1;33m(\u001b[0m\u001b[0mcondition_df\u001b[0m\u001b[1;33m[\u001b[0m\u001b[1;34m'timestamp'\u001b[0m\u001b[1;33m]\u001b[0m\u001b[1;33m,\u001b[0m \u001b[0mformat\u001b[0m\u001b[1;33m=\u001b[0m\u001b[1;34m'%Y%m%d %H:%M:%S'\u001b[0m\u001b[1;33m)\u001b[0m\u001b[1;33m\u001b[0m\u001b[1;33m\u001b[0m\u001b[0m\n\u001b[0;32m      2\u001b[0m \u001b[1;31m#condition_df['date'] = pd.to_datetime(condition_df['date'], format = '%Y%m%d ')\u001b[0m\u001b[1;33m\u001b[0m\u001b[1;33m\u001b[0m\u001b[0m\n\u001b[1;32m----> 3\u001b[1;33m \u001b[0mcondition_df\u001b[0m\u001b[1;33m[\u001b[0m\u001b[1;34m'date'\u001b[0m\u001b[1;33m]\u001b[0m \u001b[1;33m=\u001b[0m \u001b[0mcondition_df\u001b[0m\u001b[1;33m[\u001b[0m\u001b[1;34m'date'\u001b[0m\u001b[1;33m]\u001b[0m\u001b[1;33m.\u001b[0m\u001b[0mdt\u001b[0m\u001b[1;33m.\u001b[0m\u001b[0mdate\u001b[0m\u001b[1;33m\u001b[0m\u001b[1;33m\u001b[0m\u001b[0m\n\u001b[0m\u001b[0;32m      4\u001b[0m \u001b[1;33m\u001b[0m\u001b[0m\n\u001b[0;32m      5\u001b[0m \u001b[1;31m#https://strftime.org/\u001b[0m\u001b[1;33m\u001b[0m\u001b[1;33m\u001b[0m\u001b[0m\n",
      "\u001b[1;32m~\\anaconda3\\lib\\site-packages\\pandas\\core\\generic.py\u001b[0m in \u001b[0;36m__getattr__\u001b[1;34m(self, name)\u001b[0m\n\u001b[0;32m   5485\u001b[0m         ):\n\u001b[0;32m   5486\u001b[0m             \u001b[1;32mreturn\u001b[0m \u001b[0mself\u001b[0m\u001b[1;33m[\u001b[0m\u001b[0mname\u001b[0m\u001b[1;33m]\u001b[0m\u001b[1;33m\u001b[0m\u001b[1;33m\u001b[0m\u001b[0m\n\u001b[1;32m-> 5487\u001b[1;33m         \u001b[1;32mreturn\u001b[0m \u001b[0mobject\u001b[0m\u001b[1;33m.\u001b[0m\u001b[0m__getattribute__\u001b[0m\u001b[1;33m(\u001b[0m\u001b[0mself\u001b[0m\u001b[1;33m,\u001b[0m \u001b[0mname\u001b[0m\u001b[1;33m)\u001b[0m\u001b[1;33m\u001b[0m\u001b[1;33m\u001b[0m\u001b[0m\n\u001b[0m\u001b[0;32m   5488\u001b[0m \u001b[1;33m\u001b[0m\u001b[0m\n\u001b[0;32m   5489\u001b[0m     \u001b[1;32mdef\u001b[0m \u001b[0m__setattr__\u001b[0m\u001b[1;33m(\u001b[0m\u001b[0mself\u001b[0m\u001b[1;33m,\u001b[0m \u001b[0mname\u001b[0m\u001b[1;33m:\u001b[0m \u001b[0mstr\u001b[0m\u001b[1;33m,\u001b[0m \u001b[0mvalue\u001b[0m\u001b[1;33m)\u001b[0m \u001b[1;33m->\u001b[0m \u001b[1;32mNone\u001b[0m\u001b[1;33m:\u001b[0m\u001b[1;33m\u001b[0m\u001b[1;33m\u001b[0m\u001b[0m\n",
      "\u001b[1;32m~\\anaconda3\\lib\\site-packages\\pandas\\core\\accessor.py\u001b[0m in \u001b[0;36m__get__\u001b[1;34m(self, obj, cls)\u001b[0m\n\u001b[0;32m    179\u001b[0m             \u001b[1;31m# we're accessing the attribute of the class, i.e., Dataset.geo\u001b[0m\u001b[1;33m\u001b[0m\u001b[1;33m\u001b[0m\u001b[0m\n\u001b[0;32m    180\u001b[0m             \u001b[1;32mreturn\u001b[0m \u001b[0mself\u001b[0m\u001b[1;33m.\u001b[0m\u001b[0m_accessor\u001b[0m\u001b[1;33m\u001b[0m\u001b[1;33m\u001b[0m\u001b[0m\n\u001b[1;32m--> 181\u001b[1;33m         \u001b[0maccessor_obj\u001b[0m \u001b[1;33m=\u001b[0m \u001b[0mself\u001b[0m\u001b[1;33m.\u001b[0m\u001b[0m_accessor\u001b[0m\u001b[1;33m(\u001b[0m\u001b[0mobj\u001b[0m\u001b[1;33m)\u001b[0m\u001b[1;33m\u001b[0m\u001b[1;33m\u001b[0m\u001b[0m\n\u001b[0m\u001b[0;32m    182\u001b[0m         \u001b[1;31m# Replace the property with the accessor object. Inspired by:\u001b[0m\u001b[1;33m\u001b[0m\u001b[1;33m\u001b[0m\u001b[0m\n\u001b[0;32m    183\u001b[0m         \u001b[1;31m# https://www.pydanny.com/cached-property.html\u001b[0m\u001b[1;33m\u001b[0m\u001b[1;33m\u001b[0m\u001b[0m\n",
      "\u001b[1;32m~\\anaconda3\\lib\\site-packages\\pandas\\core\\indexes\\accessors.py\u001b[0m in \u001b[0;36m__new__\u001b[1;34m(cls, data)\u001b[0m\n\u001b[0;32m    504\u001b[0m             \u001b[1;32mreturn\u001b[0m \u001b[0mPeriodProperties\u001b[0m\u001b[1;33m(\u001b[0m\u001b[0mdata\u001b[0m\u001b[1;33m,\u001b[0m \u001b[0morig\u001b[0m\u001b[1;33m)\u001b[0m\u001b[1;33m\u001b[0m\u001b[1;33m\u001b[0m\u001b[0m\n\u001b[0;32m    505\u001b[0m \u001b[1;33m\u001b[0m\u001b[0m\n\u001b[1;32m--> 506\u001b[1;33m         \u001b[1;32mraise\u001b[0m \u001b[0mAttributeError\u001b[0m\u001b[1;33m(\u001b[0m\u001b[1;34m\"Can only use .dt accessor with datetimelike values\"\u001b[0m\u001b[1;33m)\u001b[0m\u001b[1;33m\u001b[0m\u001b[1;33m\u001b[0m\u001b[0m\n\u001b[0m",
      "\u001b[1;31mAttributeError\u001b[0m: Can only use .dt accessor with datetimelike values"
     ]
    }
   ],
   "source": [
    "condition_df['timestamp'] = pd.to_datetime(condition_df['timestamp'], format='%Y%m%d %H:%M:%S')\n",
    "\n",
    "#https://strftime.org/"
   ]
  },
  {
   "cell_type": "code",
   "execution_count": 293,
   "id": "5a6480ac-2e3c-43a3-9971-981209cdf25b",
   "metadata": {},
   "outputs": [
    {
     "data": {
      "text/plain": [
       "timestamp    datetime64[ns]\n",
       "date                 object\n",
       "activity              int64\n",
       "set                  object\n",
       "dtype: object"
      ]
     },
     "execution_count": 293,
     "metadata": {},
     "output_type": "execute_result"
    }
   ],
   "source": [
    "condition_df.dtypes"
   ]
  },
  {
   "cell_type": "code",
   "execution_count": 294,
   "id": "8cfd2d62-423e-4288-8732-398ae8b5bc87",
   "metadata": {},
   "outputs": [
    {
     "data": {
      "text/html": [
       "<div>\n",
       "<style scoped>\n",
       "    .dataframe tbody tr th:only-of-type {\n",
       "        vertical-align: middle;\n",
       "    }\n",
       "\n",
       "    .dataframe tbody tr th {\n",
       "        vertical-align: top;\n",
       "    }\n",
       "\n",
       "    .dataframe thead th {\n",
       "        text-align: right;\n",
       "    }\n",
       "</style>\n",
       "<table border=\"1\" class=\"dataframe\">\n",
       "  <thead>\n",
       "    <tr style=\"text-align: right;\">\n",
       "      <th></th>\n",
       "      <th>timestamp</th>\n",
       "      <th>date</th>\n",
       "      <th>activity</th>\n",
       "      <th>set</th>\n",
       "    </tr>\n",
       "  </thead>\n",
       "  <tbody>\n",
       "    <tr>\n",
       "      <th>0</th>\n",
       "      <td>2003-05-07 12:00:00</td>\n",
       "      <td>2003-05-07</td>\n",
       "      <td>0</td>\n",
       "      <td>condition_1</td>\n",
       "    </tr>\n",
       "    <tr>\n",
       "      <th>1</th>\n",
       "      <td>2003-05-07 12:01:00</td>\n",
       "      <td>2003-05-07</td>\n",
       "      <td>143</td>\n",
       "      <td>condition_1</td>\n",
       "    </tr>\n",
       "    <tr>\n",
       "      <th>2</th>\n",
       "      <td>2003-05-07 12:02:00</td>\n",
       "      <td>2003-05-07</td>\n",
       "      <td>0</td>\n",
       "      <td>condition_1</td>\n",
       "    </tr>\n",
       "    <tr>\n",
       "      <th>3</th>\n",
       "      <td>2003-05-07 12:03:00</td>\n",
       "      <td>2003-05-07</td>\n",
       "      <td>20</td>\n",
       "      <td>condition_1</td>\n",
       "    </tr>\n",
       "    <tr>\n",
       "      <th>4</th>\n",
       "      <td>2003-05-07 12:04:00</td>\n",
       "      <td>2003-05-07</td>\n",
       "      <td>166</td>\n",
       "      <td>condition_1</td>\n",
       "    </tr>\n",
       "    <tr>\n",
       "      <th>...</th>\n",
       "      <td>...</td>\n",
       "      <td>...</td>\n",
       "      <td>...</td>\n",
       "      <td>...</td>\n",
       "    </tr>\n",
       "    <tr>\n",
       "      <th>520226</th>\n",
       "      <td>2002-11-20 13:32:00</td>\n",
       "      <td>2002-11-20</td>\n",
       "      <td>0</td>\n",
       "      <td>condition_22</td>\n",
       "    </tr>\n",
       "    <tr>\n",
       "      <th>520227</th>\n",
       "      <td>2002-11-20 13:33:00</td>\n",
       "      <td>2002-11-20</td>\n",
       "      <td>0</td>\n",
       "      <td>condition_22</td>\n",
       "    </tr>\n",
       "    <tr>\n",
       "      <th>520228</th>\n",
       "      <td>2002-11-20 13:34:00</td>\n",
       "      <td>2002-11-20</td>\n",
       "      <td>7</td>\n",
       "      <td>condition_22</td>\n",
       "    </tr>\n",
       "    <tr>\n",
       "      <th>520229</th>\n",
       "      <td>2002-11-20 13:35:00</td>\n",
       "      <td>2002-11-20</td>\n",
       "      <td>0</td>\n",
       "      <td>condition_22</td>\n",
       "    </tr>\n",
       "    <tr>\n",
       "      <th>520230</th>\n",
       "      <td>2002-11-20 13:36:00</td>\n",
       "      <td>2002-11-20</td>\n",
       "      <td>111</td>\n",
       "      <td>condition_22</td>\n",
       "    </tr>\n",
       "  </tbody>\n",
       "</table>\n",
       "<p>520231 rows × 4 columns</p>\n",
       "</div>"
      ],
      "text/plain": [
       "                 timestamp        date  activity           set\n",
       "0      2003-05-07 12:00:00  2003-05-07         0   condition_1\n",
       "1      2003-05-07 12:01:00  2003-05-07       143   condition_1\n",
       "2      2003-05-07 12:02:00  2003-05-07         0   condition_1\n",
       "3      2003-05-07 12:03:00  2003-05-07        20   condition_1\n",
       "4      2003-05-07 12:04:00  2003-05-07       166   condition_1\n",
       "...                    ...         ...       ...           ...\n",
       "520226 2002-11-20 13:32:00  2002-11-20         0  condition_22\n",
       "520227 2002-11-20 13:33:00  2002-11-20         0  condition_22\n",
       "520228 2002-11-20 13:34:00  2002-11-20         7  condition_22\n",
       "520229 2002-11-20 13:35:00  2002-11-20         0  condition_22\n",
       "520230 2002-11-20 13:36:00  2002-11-20       111  condition_22\n",
       "\n",
       "[520231 rows x 4 columns]"
      ]
     },
     "execution_count": 294,
     "metadata": {},
     "output_type": "execute_result"
    }
   ],
   "source": [
    "condition_df.reset_index(drop=True)"
   ]
  },
  {
   "cell_type": "code",
   "execution_count": 295,
   "id": "c4e74c30-1baf-425a-9398-55b350d00c1e",
   "metadata": {},
   "outputs": [
    {
     "data": {
      "text/html": [
       "<div>\n",
       "<style scoped>\n",
       "    .dataframe tbody tr th:only-of-type {\n",
       "        vertical-align: middle;\n",
       "    }\n",
       "\n",
       "    .dataframe tbody tr th {\n",
       "        vertical-align: top;\n",
       "    }\n",
       "\n",
       "    .dataframe thead th {\n",
       "        text-align: right;\n",
       "    }\n",
       "</style>\n",
       "<table border=\"1\" class=\"dataframe\">\n",
       "  <thead>\n",
       "    <tr style=\"text-align: right;\">\n",
       "      <th></th>\n",
       "      <th>timestamp</th>\n",
       "      <th>date</th>\n",
       "      <th>activity</th>\n",
       "      <th>set</th>\n",
       "    </tr>\n",
       "  </thead>\n",
       "  <tbody>\n",
       "    <tr>\n",
       "      <th>0</th>\n",
       "      <td>2003-05-07 12:00:00</td>\n",
       "      <td>2003-05-07</td>\n",
       "      <td>0</td>\n",
       "      <td>condition_1</td>\n",
       "    </tr>\n",
       "    <tr>\n",
       "      <th>1</th>\n",
       "      <td>2003-05-07 12:01:00</td>\n",
       "      <td>2003-05-07</td>\n",
       "      <td>143</td>\n",
       "      <td>condition_1</td>\n",
       "    </tr>\n",
       "    <tr>\n",
       "      <th>2</th>\n",
       "      <td>2003-05-07 12:02:00</td>\n",
       "      <td>2003-05-07</td>\n",
       "      <td>0</td>\n",
       "      <td>condition_1</td>\n",
       "    </tr>\n",
       "    <tr>\n",
       "      <th>3</th>\n",
       "      <td>2003-05-07 12:03:00</td>\n",
       "      <td>2003-05-07</td>\n",
       "      <td>20</td>\n",
       "      <td>condition_1</td>\n",
       "    </tr>\n",
       "    <tr>\n",
       "      <th>4</th>\n",
       "      <td>2003-05-07 12:04:00</td>\n",
       "      <td>2003-05-07</td>\n",
       "      <td>166</td>\n",
       "      <td>condition_1</td>\n",
       "    </tr>\n",
       "  </tbody>\n",
       "</table>\n",
       "</div>"
      ],
      "text/plain": [
       "            timestamp        date  activity          set\n",
       "0 2003-05-07 12:00:00  2003-05-07         0  condition_1\n",
       "1 2003-05-07 12:01:00  2003-05-07       143  condition_1\n",
       "2 2003-05-07 12:02:00  2003-05-07         0  condition_1\n",
       "3 2003-05-07 12:03:00  2003-05-07        20  condition_1\n",
       "4 2003-05-07 12:04:00  2003-05-07       166  condition_1"
      ]
     },
     "execution_count": 295,
     "metadata": {},
     "output_type": "execute_result"
    }
   ],
   "source": [
    "condition_df.head()"
   ]
  },
  {
   "cell_type": "code",
   "execution_count": 296,
   "id": "9cf6bef2-bf08-4a78-9a0e-3fa5388283b0",
   "metadata": {},
   "outputs": [
    {
     "data": {
      "text/html": [
       "<div>\n",
       "<style scoped>\n",
       "    .dataframe tbody tr th:only-of-type {\n",
       "        vertical-align: middle;\n",
       "    }\n",
       "\n",
       "    .dataframe tbody tr th {\n",
       "        vertical-align: top;\n",
       "    }\n",
       "\n",
       "    .dataframe thead th {\n",
       "        text-align: right;\n",
       "    }\n",
       "</style>\n",
       "<table border=\"1\" class=\"dataframe\">\n",
       "  <thead>\n",
       "    <tr style=\"text-align: right;\">\n",
       "      <th></th>\n",
       "      <th>activity</th>\n",
       "    </tr>\n",
       "  </thead>\n",
       "  <tbody>\n",
       "    <tr>\n",
       "      <th>count</th>\n",
       "      <td>520231.000000</td>\n",
       "    </tr>\n",
       "    <tr>\n",
       "      <th>mean</th>\n",
       "      <td>160.689932</td>\n",
       "    </tr>\n",
       "    <tr>\n",
       "      <th>std</th>\n",
       "      <td>318.334497</td>\n",
       "    </tr>\n",
       "    <tr>\n",
       "      <th>min</th>\n",
       "      <td>0.000000</td>\n",
       "    </tr>\n",
       "    <tr>\n",
       "      <th>25%</th>\n",
       "      <td>0.000000</td>\n",
       "    </tr>\n",
       "    <tr>\n",
       "      <th>50%</th>\n",
       "      <td>7.000000</td>\n",
       "    </tr>\n",
       "    <tr>\n",
       "      <th>75%</th>\n",
       "      <td>178.000000</td>\n",
       "    </tr>\n",
       "    <tr>\n",
       "      <th>max</th>\n",
       "      <td>8000.000000</td>\n",
       "    </tr>\n",
       "  </tbody>\n",
       "</table>\n",
       "</div>"
      ],
      "text/plain": [
       "            activity\n",
       "count  520231.000000\n",
       "mean      160.689932\n",
       "std       318.334497\n",
       "min         0.000000\n",
       "25%         0.000000\n",
       "50%         7.000000\n",
       "75%       178.000000\n",
       "max      8000.000000"
      ]
     },
     "execution_count": 296,
     "metadata": {},
     "output_type": "execute_result"
    }
   ],
   "source": [
    "condition_df.describe()"
   ]
  },
  {
   "cell_type": "code",
   "execution_count": 297,
   "id": "78f313ce-5781-46c3-9f66-ccbadb5a2d7d",
   "metadata": {},
   "outputs": [
    {
     "data": {
      "text/plain": [
       "timestamp    False\n",
       "date         False\n",
       "activity     False\n",
       "set          False\n",
       "dtype: bool"
      ]
     },
     "execution_count": 297,
     "metadata": {},
     "output_type": "execute_result"
    }
   ],
   "source": [
    "condition_df.isnull().any()"
   ]
  },
  {
   "cell_type": "code",
   "execution_count": 298,
   "id": "9c0db9d9-7608-4c48-a8cb-d5767a518830",
   "metadata": {},
   "outputs": [
    {
     "data": {
      "text/plain": [
       "array(['condition_1', 'condition_2', 'condition_3', 'condition_4',\n",
       "       'condition_5', 'condition_6', 'condition_7', 'condition_8',\n",
       "       'condition_9', 'condition_10', 'condition_11', 'condition_12',\n",
       "       'condition_13', 'condition_14', 'condition_15', 'condition_16',\n",
       "       'condition_17', 'condition_18', 'condition_19', 'condition_20',\n",
       "       'condition_21', 'condition_22'], dtype=object)"
      ]
     },
     "execution_count": 298,
     "metadata": {},
     "output_type": "execute_result"
    }
   ],
   "source": [
    "condition_df['set'].unique()"
   ]
  },
  {
   "cell_type": "markdown",
   "id": "f8774873-49f1-402a-bd49-9a960298aa7e",
   "metadata": {},
   "source": [
    "What does the daily mean, 30 day mean, and cumulative total of each subset look like?"
   ]
  },
  {
   "cell_type": "code",
   "execution_count": 299,
   "id": "a02bdce8-8cb4-4f32-9edd-faa0f8baa6c1",
   "metadata": {},
   "outputs": [],
   "source": [
    "condition_1 = condition_df.loc[(condition_df['date'] == '2003-05-07') & (condition_df['set'] == 'condition_1')]\n",
    "condition_2 = condition_df.loc[(condition_df['date'] == '2003-05-07') & (condition_df['set'] == 'condition_2')]"
   ]
  },
  {
   "cell_type": "code",
   "execution_count": 300,
   "id": "bde0a734-d4cb-4e71-a26b-ecf1f0a20f96",
   "metadata": {},
   "outputs": [
    {
     "data": {
      "text/plain": [
       "timestamp    datetime64[ns]\n",
       "date                 object\n",
       "activity              int64\n",
       "set                  object\n",
       "dtype: object"
      ]
     },
     "execution_count": 300,
     "metadata": {},
     "output_type": "execute_result"
    }
   ],
   "source": [
    "condition_1.dtypes"
   ]
  },
  {
   "cell_type": "code",
   "execution_count": 301,
   "id": "7f16507b-bbc5-4baf-bada-df31a9f221d2",
   "metadata": {},
   "outputs": [
    {
     "data": {
      "text/html": [
       "<div>\n",
       "<style scoped>\n",
       "    .dataframe tbody tr th:only-of-type {\n",
       "        vertical-align: middle;\n",
       "    }\n",
       "\n",
       "    .dataframe tbody tr th {\n",
       "        vertical-align: top;\n",
       "    }\n",
       "\n",
       "    .dataframe thead th {\n",
       "        text-align: right;\n",
       "    }\n",
       "</style>\n",
       "<table border=\"1\" class=\"dataframe\">\n",
       "  <thead>\n",
       "    <tr style=\"text-align: right;\">\n",
       "      <th></th>\n",
       "      <th>timestamp</th>\n",
       "      <th>date</th>\n",
       "      <th>activity</th>\n",
       "      <th>set</th>\n",
       "    </tr>\n",
       "  </thead>\n",
       "  <tbody>\n",
       "    <tr>\n",
       "      <th>0</th>\n",
       "      <td>2003-05-07 12:00:00</td>\n",
       "      <td>2003-05-07</td>\n",
       "      <td>0</td>\n",
       "      <td>condition_1</td>\n",
       "    </tr>\n",
       "    <tr>\n",
       "      <th>1</th>\n",
       "      <td>2003-05-07 12:01:00</td>\n",
       "      <td>2003-05-07</td>\n",
       "      <td>143</td>\n",
       "      <td>condition_1</td>\n",
       "    </tr>\n",
       "    <tr>\n",
       "      <th>2</th>\n",
       "      <td>2003-05-07 12:02:00</td>\n",
       "      <td>2003-05-07</td>\n",
       "      <td>0</td>\n",
       "      <td>condition_1</td>\n",
       "    </tr>\n",
       "    <tr>\n",
       "      <th>3</th>\n",
       "      <td>2003-05-07 12:03:00</td>\n",
       "      <td>2003-05-07</td>\n",
       "      <td>20</td>\n",
       "      <td>condition_1</td>\n",
       "    </tr>\n",
       "    <tr>\n",
       "      <th>4</th>\n",
       "      <td>2003-05-07 12:04:00</td>\n",
       "      <td>2003-05-07</td>\n",
       "      <td>166</td>\n",
       "      <td>condition_1</td>\n",
       "    </tr>\n",
       "  </tbody>\n",
       "</table>\n",
       "</div>"
      ],
      "text/plain": [
       "            timestamp        date  activity          set\n",
       "0 2003-05-07 12:00:00  2003-05-07         0  condition_1\n",
       "1 2003-05-07 12:01:00  2003-05-07       143  condition_1\n",
       "2 2003-05-07 12:02:00  2003-05-07         0  condition_1\n",
       "3 2003-05-07 12:03:00  2003-05-07        20  condition_1\n",
       "4 2003-05-07 12:04:00  2003-05-07       166  condition_1"
      ]
     },
     "execution_count": 301,
     "metadata": {},
     "output_type": "execute_result"
    }
   ],
   "source": [
    "condition_1.head()"
   ]
  },
  {
   "cell_type": "code",
   "execution_count": 302,
   "id": "93dcde11-3947-4d16-b6f9-28fc89b3726c",
   "metadata": {},
   "outputs": [
    {
     "data": {
      "text/plain": [
       "Text(0.5, 1.0, '24hour activity over time Condition_2')"
      ]
     },
     "execution_count": 302,
     "metadata": {},
     "output_type": "execute_result"
    },
    {
     "data": {
      "image/png": "[encoded data removed]",
      "text/plain": [
       "<Figure size 360x360 with 1 Axes>"
      ]
     },
     "metadata": {
      "needs_background": "light"
     },
     "output_type": "display_data"
    },
    {
     "data": {
      "image/png": "[encoded data removed]",
      "text/plain": [
       "<Figure size 360x360 with 1 Axes>"
      ]
     },
     "metadata": {
      "needs_background": "light"
     },
     "output_type": "display_data"
    }
   ],
   "source": [
    "''' Should look at some control stuff here '''\n",
    "\n",
    "sns.displot(data=condition_1,\n",
    "            x=\"timestamp\", \n",
    "            y=\"activity\",\n",
    "            kind='kde',\n",
    "            rug=True,)\n",
    "\n",
    "plt.xticks(rotation=90)\n",
    "plt.title('24hour activity over time Conditon_1')\n",
    "\n",
    "sns.displot(data=condition_2,\n",
    "            x=\"timestamp\", \n",
    "            y=\"activity\",\n",
    "            kind='kde',\n",
    "            rug=True,)\n",
    "\n",
    "plt.xticks(rotation=90)\n",
    "plt.title('24hour activity over time Condition_2')"
   ]
  },
  {
   "cell_type": "code",
   "execution_count": 314,
   "id": "475703cc-389d-4804-b25e-c054b7c042e0",
   "metadata": {},
   "outputs": [
    {
     "data": {
      "text/html": [
       "<div>\n",
       "<style scoped>\n",
       "    .dataframe tbody tr th:only-of-type {\n",
       "        vertical-align: middle;\n",
       "    }\n",
       "\n",
       "    .dataframe tbody tr th {\n",
       "        vertical-align: top;\n",
       "    }\n",
       "\n",
       "    .dataframe thead th {\n",
       "        text-align: right;\n",
       "    }\n",
       "</style>\n",
       "<table border=\"1\" class=\"dataframe\">\n",
       "  <thead>\n",
       "    <tr style=\"text-align: right;\">\n",
       "      <th></th>\n",
       "      <th>timestamp</th>\n",
       "      <th>date</th>\n",
       "      <th>activity</th>\n",
       "      <th>set</th>\n",
       "    </tr>\n",
       "  </thead>\n",
       "  <tbody>\n",
       "    <tr>\n",
       "      <th>0</th>\n",
       "      <td>2003-05-07 12:00:00</td>\n",
       "      <td>2003-05-07</td>\n",
       "      <td>0</td>\n",
       "      <td>condition_1</td>\n",
       "    </tr>\n",
       "    <tr>\n",
       "      <th>1</th>\n",
       "      <td>2003-05-07 12:01:00</td>\n",
       "      <td>2003-05-07</td>\n",
       "      <td>143</td>\n",
       "      <td>condition_1</td>\n",
       "    </tr>\n",
       "    <tr>\n",
       "      <th>2</th>\n",
       "      <td>2003-05-07 12:02:00</td>\n",
       "      <td>2003-05-07</td>\n",
       "      <td>0</td>\n",
       "      <td>condition_1</td>\n",
       "    </tr>\n",
       "    <tr>\n",
       "      <th>3</th>\n",
       "      <td>2003-05-07 12:03:00</td>\n",
       "      <td>2003-05-07</td>\n",
       "      <td>20</td>\n",
       "      <td>condition_1</td>\n",
       "    </tr>\n",
       "    <tr>\n",
       "      <th>4</th>\n",
       "      <td>2003-05-07 12:04:00</td>\n",
       "      <td>2003-05-07</td>\n",
       "      <td>166</td>\n",
       "      <td>condition_1</td>\n",
       "    </tr>\n",
       "  </tbody>\n",
       "</table>\n",
       "</div>"
      ],
      "text/plain": [
       "            timestamp        date  activity          set\n",
       "0 2003-05-07 12:00:00  2003-05-07         0  condition_1\n",
       "1 2003-05-07 12:01:00  2003-05-07       143  condition_1\n",
       "2 2003-05-07 12:02:00  2003-05-07         0  condition_1\n",
       "3 2003-05-07 12:03:00  2003-05-07        20  condition_1\n",
       "4 2003-05-07 12:04:00  2003-05-07       166  condition_1"
      ]
     },
     "execution_count": 314,
     "metadata": {},
     "output_type": "execute_result"
    }
   ],
   "source": [
    "condition_1.head()"
   ]
  },
  {
   "cell_type": "code",
   "execution_count": 315,
   "id": "c5bde1cd-5b16-443b-a5c6-c63cbddc04a7",
   "metadata": {},
   "outputs": [
    {
     "data": {
      "text/plain": [
       "timestamp    datetime64[ns]\n",
       "date                 object\n",
       "activity              int64\n",
       "set                  object\n",
       "dtype: object"
      ]
     },
     "execution_count": 315,
     "metadata": {},
     "output_type": "execute_result"
    }
   ],
   "source": [
    "condition_1.dtypes"
   ]
  },
  {
   "cell_type": "code",
   "execution_count": 317,
   "id": "5e7a3ae3-ea1c-431c-a499-35cfc43066b6",
   "metadata": {},
   "outputs": [],
   "source": [
    "files = condition_df['set'].unique()"
   ]
  },
  {
   "cell_type": "code",
   "execution_count": 318,
   "id": "0f291585-afdc-40cb-b55f-817f746d521d",
   "metadata": {},
   "outputs": [
    {
     "data": {
      "text/plain": [
       "array(['condition_1', 'condition_2', 'condition_3', 'condition_4',\n",
       "       'condition_5', 'condition_6', 'condition_7', 'condition_8',\n",
       "       'condition_9', 'condition_10', 'condition_11', 'condition_12',\n",
       "       'condition_13', 'condition_14', 'condition_15', 'condition_16',\n",
       "       'condition_17', 'condition_18', 'condition_19', 'condition_20',\n",
       "       'condition_21', 'condition_22'], dtype=object)"
      ]
     },
     "execution_count": 318,
     "metadata": {},
     "output_type": "execute_result"
    }
   ],
   "source": [
    "files"
   ]
  },
  {
   "cell_type": "code",
   "execution_count": 319,
   "id": "a4ae0bfb-fdd0-41ef-af4b-37ff89d539d9",
   "metadata": {},
   "outputs": [],
   "source": [
    "condition_1 = condition_df.loc[condition_df['set'] == 'condition_1']"
   ]
  },
  {
   "cell_type": "code",
   "execution_count": 361,
   "id": "595ec088-b6a7-4a19-92d4-66fbfbfc5e7e",
   "metadata": {},
   "outputs": [],
   "source": [
    "daily_mean_activity = pd.DataFrame()\n",
    "intra_day_mean_activity = pd.DataFrame()\n",
    "\n",
    "for condition_set in files:\n",
    "    activity_temp = pd.DataFrame()\n",
    "    daily_subsample = condition_df.loc[condition_df['set'] == condition_set]\n",
    "    dates = daily_subsample['date'].unique()\n",
    "    for date in dates:\n",
    "        date_range_subset = daily_subsample.loc[daily_subsample['date'] == date]\n",
    "\n",
    "        metrics = date_range_subset.describe()\n",
    "        d_count = round(metrics['activity'][0],0)\n",
    "        d_mean = round(metrics['activity'][1],2)\n",
    "        d_std = round(metrics['activity'][2],2)\n",
    "        d_min = round(metrics['activity'][3],2)\n",
    "        d_25 = round(metrics['activity'][4],2)\n",
    "        d_50 = round(metrics['activity'][5],2)\n",
    "        d_75 = round(metrics['activity'][6],2)\n",
    "        d_max = round(metrics['activity'][7],2)\n",
    "\n",
    "        new_date = date\n",
    "\n",
    "        #daily_activity = round(daily_subsample['activity'].mean(), 2)\n",
    "        new_row = {'date': new_date, \n",
    "                   'activity 24hr mean': d_mean,\n",
    "                   'activity 24hr events': d_count,\n",
    "                   'activity 24hr std': d_std,\n",
    "                   'activity 24hr min': d_min,\n",
    "                   'activity 24hr 25%': d_25,\n",
    "                   'activity 24hr 50%': d_50,\n",
    "                   'activity 24hr 75%': d_75,\n",
    "                   'activity 24hr max': d_max,\n",
    "                   'set':daily_subsample['set'][0]}\n",
    "        activity_temp = activity_temp.append(new_row, ignore_index=True)\n",
    "        intra_day_mean_activity = intra_day_mean_activity.append(new_row, ignore_index = True)\n",
    "    \n",
    "    daily_activity_mean = round(activity_temp['activity 24hr mean'].mean(),2)\n",
    "    daily_activity_events = round(activity_temp['activity 24hr events'].mean(),2)\n",
    "    daily_activity_std = round(activity_temp['activity 24hr std'].mean(),2)\n",
    "    daily_activity_min = round(activity_temp['activity 24hr min'].mean(),2)\n",
    "    daily_activity_25 = round(activity_temp['activity 24hr 25%'].mean(),2)\n",
    "    daily_activity_50 = round(activity_temp['activity 24hr 50%'].mean(),2)\n",
    "    daily_activity_75 = round(activity_temp['activity 24hr 75%'].mean(),2)\n",
    "    daily_activity_max = round(activity_temp['activity 24hr max'].mean(),2)\n",
    "    \n",
    "    row_agg = {'daily_activity_mean': daily_activity_mean,\n",
    "                   'daily_activity_events': daily_activity_events,\n",
    "                   'daily_activity_std': daily_activity_std,\n",
    "                   'daily_activity_min': daily_activity_min,\n",
    "                   'daily_activity_25': daily_activity_25,\n",
    "                   'daily_activity_50': daily_activity_50,\n",
    "                   'daily_activity_75': daily_activity_75,\n",
    "                   'daily_activity_max': daily_activity_max,\n",
    "                   'set':condition_set}\n",
    "    daily_mean_activity = daily_mean_activity.append(row_agg, ignore_index=True)"
   ]
  },
  {
   "cell_type": "markdown",
   "id": "d5034ff2-fa35-49ae-b4ee-0a58b149e7fe",
   "metadata": {},
   "source": [
    "### Daily mean activity for depression cases"
   ]
  },
  {
   "cell_type": "code",
   "execution_count": 362,
   "id": "55073c82-88f1-4530-9f05-339b122849eb",
   "metadata": {},
   "outputs": [
    {
     "data": {
      "text/html": [
       "<div>\n",
       "<style scoped>\n",
       "    .dataframe tbody tr th:only-of-type {\n",
       "        vertical-align: middle;\n",
       "    }\n",
       "\n",
       "    .dataframe tbody tr th {\n",
       "        vertical-align: top;\n",
       "    }\n",
       "\n",
       "    .dataframe thead th {\n",
       "        text-align: right;\n",
       "    }\n",
       "</style>\n",
       "<table border=\"1\" class=\"dataframe\">\n",
       "  <thead>\n",
       "    <tr style=\"text-align: right;\">\n",
       "      <th></th>\n",
       "      <th>daily_activity_mean</th>\n",
       "      <th>daily_activity_events</th>\n",
       "      <th>daily_activity_std</th>\n",
       "      <th>daily_activity_min</th>\n",
       "      <th>daily_activity_25</th>\n",
       "      <th>daily_activity_50</th>\n",
       "      <th>daily_activity_75</th>\n",
       "      <th>daily_activity_max</th>\n",
       "      <th>set</th>\n",
       "    </tr>\n",
       "  </thead>\n",
       "  <tbody>\n",
       "    <tr>\n",
       "      <th>0</th>\n",
       "      <td>144.71</td>\n",
       "      <td>1367.29</td>\n",
       "      <td>259.64</td>\n",
       "      <td>0.00</td>\n",
       "      <td>0.65</td>\n",
       "      <td>21.82</td>\n",
       "      <td>186.79</td>\n",
       "      <td>2065.71</td>\n",
       "      <td>condition_1</td>\n",
       "    </tr>\n",
       "    <tr>\n",
       "      <th>1</th>\n",
       "      <td>150.96</td>\n",
       "      <td>1390.21</td>\n",
       "      <td>252.46</td>\n",
       "      <td>4.04</td>\n",
       "      <td>5.25</td>\n",
       "      <td>29.36</td>\n",
       "      <td>192.35</td>\n",
       "      <td>1854.50</td>\n",
       "      <td>condition_2</td>\n",
       "    </tr>\n",
       "    <tr>\n",
       "      <th>2</th>\n",
       "      <td>251.41</td>\n",
       "      <td>1353.00</td>\n",
       "      <td>364.08</td>\n",
       "      <td>3.38</td>\n",
       "      <td>5.69</td>\n",
       "      <td>76.97</td>\n",
       "      <td>373.11</td>\n",
       "      <td>2639.50</td>\n",
       "      <td>condition_3</td>\n",
       "    </tr>\n",
       "    <tr>\n",
       "      <th>3</th>\n",
       "      <td>264.05</td>\n",
       "      <td>1347.25</td>\n",
       "      <td>370.86</td>\n",
       "      <td>0.00</td>\n",
       "      <td>1.05</td>\n",
       "      <td>127.16</td>\n",
       "      <td>389.59</td>\n",
       "      <td>3130.50</td>\n",
       "      <td>condition_4</td>\n",
       "    </tr>\n",
       "    <tr>\n",
       "      <th>4</th>\n",
       "      <td>160.30</td>\n",
       "      <td>1343.31</td>\n",
       "      <td>277.02</td>\n",
       "      <td>0.00</td>\n",
       "      <td>0.00</td>\n",
       "      <td>34.06</td>\n",
       "      <td>197.06</td>\n",
       "      <td>2393.62</td>\n",
       "      <td>condition_5</td>\n",
       "    </tr>\n",
       "    <tr>\n",
       "      <th>5</th>\n",
       "      <td>195.16</td>\n",
       "      <td>1339.56</td>\n",
       "      <td>317.44</td>\n",
       "      <td>0.00</td>\n",
       "      <td>3.69</td>\n",
       "      <td>43.00</td>\n",
       "      <td>271.02</td>\n",
       "      <td>2476.38</td>\n",
       "      <td>condition_6</td>\n",
       "    </tr>\n",
       "    <tr>\n",
       "      <th>6</th>\n",
       "      <td>258.88</td>\n",
       "      <td>1385.94</td>\n",
       "      <td>388.21</td>\n",
       "      <td>0.00</td>\n",
       "      <td>0.66</td>\n",
       "      <td>69.75</td>\n",
       "      <td>422.39</td>\n",
       "      <td>2881.19</td>\n",
       "      <td>condition_7</td>\n",
       "    </tr>\n",
       "    <tr>\n",
       "      <th>7</th>\n",
       "      <td>187.94</td>\n",
       "      <td>1378.50</td>\n",
       "      <td>371.31</td>\n",
       "      <td>0.00</td>\n",
       "      <td>1.21</td>\n",
       "      <td>34.96</td>\n",
       "      <td>208.71</td>\n",
       "      <td>3613.43</td>\n",
       "      <td>condition_8</td>\n",
       "    </tr>\n",
       "    <tr>\n",
       "      <th>8</th>\n",
       "      <td>181.74</td>\n",
       "      <td>1354.53</td>\n",
       "      <td>306.13</td>\n",
       "      <td>0.00</td>\n",
       "      <td>3.33</td>\n",
       "      <td>41.73</td>\n",
       "      <td>225.10</td>\n",
       "      <td>2222.67</td>\n",
       "      <td>condition_9</td>\n",
       "    </tr>\n",
       "    <tr>\n",
       "      <th>9</th>\n",
       "      <td>278.41</td>\n",
       "      <td>1347.19</td>\n",
       "      <td>374.07</td>\n",
       "      <td>0.00</td>\n",
       "      <td>0.00</td>\n",
       "      <td>135.56</td>\n",
       "      <td>415.81</td>\n",
       "      <td>2541.38</td>\n",
       "      <td>condition_10</td>\n",
       "    </tr>\n",
       "    <tr>\n",
       "      <th>10</th>\n",
       "      <td>126.39</td>\n",
       "      <td>1352.35</td>\n",
       "      <td>262.10</td>\n",
       "      <td>0.00</td>\n",
       "      <td>0.00</td>\n",
       "      <td>12.12</td>\n",
       "      <td>119.90</td>\n",
       "      <td>2038.71</td>\n",
       "      <td>condition_11</td>\n",
       "    </tr>\n",
       "    <tr>\n",
       "      <th>11</th>\n",
       "      <td>154.42</td>\n",
       "      <td>1384.19</td>\n",
       "      <td>248.57</td>\n",
       "      <td>0.00</td>\n",
       "      <td>2.31</td>\n",
       "      <td>45.91</td>\n",
       "      <td>212.39</td>\n",
       "      <td>1980.38</td>\n",
       "      <td>condition_12</td>\n",
       "    </tr>\n",
       "    <tr>\n",
       "      <th>12</th>\n",
       "      <td>217.11</td>\n",
       "      <td>1363.68</td>\n",
       "      <td>300.47</td>\n",
       "      <td>0.00</td>\n",
       "      <td>3.37</td>\n",
       "      <td>91.92</td>\n",
       "      <td>330.09</td>\n",
       "      <td>2252.05</td>\n",
       "      <td>condition_13</td>\n",
       "    </tr>\n",
       "    <tr>\n",
       "      <th>13</th>\n",
       "      <td>75.11</td>\n",
       "      <td>1352.88</td>\n",
       "      <td>174.46</td>\n",
       "      <td>0.00</td>\n",
       "      <td>0.00</td>\n",
       "      <td>0.88</td>\n",
       "      <td>52.19</td>\n",
       "      <td>1576.56</td>\n",
       "      <td>condition_14</td>\n",
       "    </tr>\n",
       "    <tr>\n",
       "      <th>14</th>\n",
       "      <td>109.03</td>\n",
       "      <td>1364.31</td>\n",
       "      <td>208.60</td>\n",
       "      <td>0.00</td>\n",
       "      <td>0.00</td>\n",
       "      <td>26.75</td>\n",
       "      <td>129.91</td>\n",
       "      <td>2294.12</td>\n",
       "      <td>condition_15</td>\n",
       "    </tr>\n",
       "    <tr>\n",
       "      <th>15</th>\n",
       "      <td>146.99</td>\n",
       "      <td>1394.90</td>\n",
       "      <td>237.54</td>\n",
       "      <td>0.00</td>\n",
       "      <td>0.37</td>\n",
       "      <td>34.40</td>\n",
       "      <td>219.05</td>\n",
       "      <td>1807.13</td>\n",
       "      <td>condition_16</td>\n",
       "    </tr>\n",
       "    <tr>\n",
       "      <th>16</th>\n",
       "      <td>83.89</td>\n",
       "      <td>1345.69</td>\n",
       "      <td>169.94</td>\n",
       "      <td>0.00</td>\n",
       "      <td>0.31</td>\n",
       "      <td>15.12</td>\n",
       "      <td>95.75</td>\n",
       "      <td>1588.69</td>\n",
       "      <td>condition_17</td>\n",
       "    </tr>\n",
       "    <tr>\n",
       "      <th>17</th>\n",
       "      <td>69.80</td>\n",
       "      <td>1334.19</td>\n",
       "      <td>133.35</td>\n",
       "      <td>0.00</td>\n",
       "      <td>0.00</td>\n",
       "      <td>8.91</td>\n",
       "      <td>83.81</td>\n",
       "      <td>1087.69</td>\n",
       "      <td>condition_18</td>\n",
       "    </tr>\n",
       "    <tr>\n",
       "      <th>18</th>\n",
       "      <td>151.58</td>\n",
       "      <td>1326.94</td>\n",
       "      <td>259.15</td>\n",
       "      <td>0.00</td>\n",
       "      <td>1.00</td>\n",
       "      <td>43.28</td>\n",
       "      <td>192.22</td>\n",
       "      <td>2564.19</td>\n",
       "      <td>condition_19</td>\n",
       "    </tr>\n",
       "    <tr>\n",
       "      <th>19</th>\n",
       "      <td>54.91</td>\n",
       "      <td>1360.37</td>\n",
       "      <td>127.94</td>\n",
       "      <td>0.00</td>\n",
       "      <td>0.00</td>\n",
       "      <td>0.68</td>\n",
       "      <td>41.43</td>\n",
       "      <td>1333.74</td>\n",
       "      <td>condition_20</td>\n",
       "    </tr>\n",
       "    <tr>\n",
       "      <th>20</th>\n",
       "      <td>80.35</td>\n",
       "      <td>1365.80</td>\n",
       "      <td>211.68</td>\n",
       "      <td>0.00</td>\n",
       "      <td>0.00</td>\n",
       "      <td>0.00</td>\n",
       "      <td>37.18</td>\n",
       "      <td>2117.00</td>\n",
       "      <td>condition_21</td>\n",
       "    </tr>\n",
       "    <tr>\n",
       "      <th>21</th>\n",
       "      <td>161.58</td>\n",
       "      <td>1360.75</td>\n",
       "      <td>245.24</td>\n",
       "      <td>0.00</td>\n",
       "      <td>2.22</td>\n",
       "      <td>35.94</td>\n",
       "      <td>254.08</td>\n",
       "      <td>2127.62</td>\n",
       "      <td>condition_22</td>\n",
       "    </tr>\n",
       "  </tbody>\n",
       "</table>\n",
       "</div>"
      ],
      "text/plain": [
       "    daily_activity_mean  daily_activity_events  daily_activity_std  \\\n",
       "0                144.71                1367.29              259.64   \n",
       "1                150.96                1390.21              252.46   \n",
       "2                251.41                1353.00              364.08   \n",
       "3                264.05                1347.25              370.86   \n",
       "4                160.30                1343.31              277.02   \n",
       "5                195.16                1339.56              317.44   \n",
       "6                258.88                1385.94              388.21   \n",
       "7                187.94                1378.50              371.31   \n",
       "8                181.74                1354.53              306.13   \n",
       "9                278.41                1347.19              374.07   \n",
       "10               126.39                1352.35              262.10   \n",
       "11               154.42                1384.19              248.57   \n",
       "12               217.11                1363.68              300.47   \n",
       "13                75.11                1352.88              174.46   \n",
       "14               109.03                1364.31              208.60   \n",
       "15               146.99                1394.90              237.54   \n",
       "16                83.89                1345.69              169.94   \n",
       "17                69.80                1334.19              133.35   \n",
       "18               151.58                1326.94              259.15   \n",
       "19                54.91                1360.37              127.94   \n",
       "20                80.35                1365.80              211.68   \n",
       "21               161.58                1360.75              245.24   \n",
       "\n",
       "    daily_activity_min  daily_activity_25  daily_activity_50  \\\n",
       "0                 0.00               0.65              21.82   \n",
       "1                 4.04               5.25              29.36   \n",
       "2                 3.38               5.69              76.97   \n",
       "3                 0.00               1.05             127.16   \n",
       "4                 0.00               0.00              34.06   \n",
       "5                 0.00               3.69              43.00   \n",
       "6                 0.00               0.66              69.75   \n",
       "7                 0.00               1.21              34.96   \n",
       "8                 0.00               3.33              41.73   \n",
       "9                 0.00               0.00             135.56   \n",
       "10                0.00               0.00              12.12   \n",
       "11                0.00               2.31              45.91   \n",
       "12                0.00               3.37              91.92   \n",
       "13                0.00               0.00               0.88   \n",
       "14                0.00               0.00              26.75   \n",
       "15                0.00               0.37              34.40   \n",
       "16                0.00               0.31              15.12   \n",
       "17                0.00               0.00               8.91   \n",
       "18                0.00               1.00              43.28   \n",
       "19                0.00               0.00               0.68   \n",
       "20                0.00               0.00               0.00   \n",
       "21                0.00               2.22              35.94   \n",
       "\n",
       "    daily_activity_75  daily_activity_max           set  \n",
       "0              186.79             2065.71   condition_1  \n",
       "1              192.35             1854.50   condition_2  \n",
       "2              373.11             2639.50   condition_3  \n",
       "3              389.59             3130.50   condition_4  \n",
       "4              197.06             2393.62   condition_5  \n",
       "5              271.02             2476.38   condition_6  \n",
       "6              422.39             2881.19   condition_7  \n",
       "7              208.71             3613.43   condition_8  \n",
       "8              225.10             2222.67   condition_9  \n",
       "9              415.81             2541.38  condition_10  \n",
       "10             119.90             2038.71  condition_11  \n",
       "11             212.39             1980.38  condition_12  \n",
       "12             330.09             2252.05  condition_13  \n",
       "13              52.19             1576.56  condition_14  \n",
       "14             129.91             2294.12  condition_15  \n",
       "15             219.05             1807.13  condition_16  \n",
       "16              95.75             1588.69  condition_17  \n",
       "17              83.81             1087.69  condition_18  \n",
       "18             192.22             2564.19  condition_19  \n",
       "19              41.43             1333.74  condition_20  \n",
       "20              37.18             2117.00  condition_21  \n",
       "21             254.08             2127.62  condition_22  "
      ]
     },
     "execution_count": 362,
     "metadata": {},
     "output_type": "execute_result"
    }
   ],
   "source": [
    "daily_mean_activity"
   ]
  },
  {
   "cell_type": "code",
   "execution_count": 364,
   "id": "66728f23-0bf3-4ed7-baf9-0fb718cf6776",
   "metadata": {},
   "outputs": [
    {
     "data": {
      "text/plain": [
       "Text(0.5, 1.0, 'Daily Activity 24Hr 25%, 50%, 75%')"
      ]
     },
     "execution_count": 364,
     "metadata": {},
     "output_type": "execute_result"
    },
    {
     "data": {
      "image/png": "[encoded data removed]",
      "text/plain": [
       "<Figure size 842.4x595.44 with 4 Axes>"
      ]
     },
     "metadata": {
      "needs_background": "light"
     },
     "output_type": "display_data"
    }
   ],
   "source": [
    "a4_dims = (11.7, 8.27)\n",
    "fig, ax = plt.subplots(2,2, figsize=a4_dims)\n",
    "fig.suptitle(\"Aggregated Daily Activity: Condition\")\n",
    "\n",
    "#plt.title('Aggregated Daily Activity')\n",
    "# activity mean\n",
    "sns.lineplot(ax=ax[0][0],\n",
    "            data=daily_mean_activity['daily_activity_mean'],\n",
    "            markers = True,\n",
    "            dashes=False)\n",
    "ax[0][0].set_title('Daily Activity 24Hr Mean')\n",
    "\n",
    "# standard deviation\n",
    "sns.lineplot(ax=ax[0][1],\n",
    "            data=daily_mean_activity['daily_activity_std'],\n",
    "            markers = True,\n",
    "            dashes=False,)\n",
    "ax[0][1].set_title('Activity 24Hr Std')\n",
    "\n",
    "#min max\n",
    "sns.lineplot(ax=ax[1][0],\n",
    "            data=daily_mean_activity[['daily_activity_min','daily_activity_max']],\n",
    "            markers = True,\n",
    "            dashes=False,)\n",
    "ax[1][0].set_title('Daily Activity 24Hr min/max')\n",
    "\n",
    "# iqrs\n",
    "sns.lineplot(ax=ax[1][1],\n",
    "            data=daily_mean_activity[['daily_activity_25','daily_activity_50','daily_activity_75']],\n",
    "            markers = True,\n",
    "            dashes=False,)\n",
    "ax[1][1].set_title('Daily Activity 24Hr 25%, 50%, 75%')\n",
    "\n",
    "\n",
    "#plt.xticks(rotation=90)"
   ]
  },
  {
   "cell_type": "markdown",
   "id": "255865d8-9281-4cd3-963b-75f7313a9b48",
   "metadata": {},
   "source": [
    "#### Intra day activity for depression"
   ]
  },
  {
   "cell_type": "markdown",
   "id": "ecabcf41-aed1-4900-aeed-46e0126339c6",
   "metadata": {},
   "source": [
    "### Control Dataset"
   ]
  },
  {
   "cell_type": "code",
   "execution_count": 12,
   "id": "02cf520a-ec5f-4bb9-972c-70540dbdb89c",
   "metadata": {},
   "outputs": [
    {
     "data": {
      "text/plain": [
       "(968371, 4)"
      ]
     },
     "execution_count": 12,
     "metadata": {},
     "output_type": "execute_result"
    }
   ],
   "source": [
    "''' Import all control datasets ''' \n",
    "\n",
    "control_df = pd.DataFrame()\n",
    "\n",
    "for i in range(1,32):\n",
    "    filename = 'control_' + str(i)\n",
    "    filepath = 'data/control/' + filename + '.csv'\n",
    "    \n",
    "    df = pd.read_csv(filepath)\n",
    "    df['set'] = filename\n",
    "    control_df = control_df.append(df)\n",
    "\n",
    "control_df.shape"
   ]
  },
  {
   "cell_type": "code",
   "execution_count": 13,
   "id": "bdb48322-4798-4bca-9211-5774852e21ae",
   "metadata": {},
   "outputs": [
    {
     "data": {
      "text/html": [
       "<div>\n",
       "<style scoped>\n",
       "    .dataframe tbody tr th:only-of-type {\n",
       "        vertical-align: middle;\n",
       "    }\n",
       "\n",
       "    .dataframe tbody tr th {\n",
       "        vertical-align: top;\n",
       "    }\n",
       "\n",
       "    .dataframe thead th {\n",
       "        text-align: right;\n",
       "    }\n",
       "</style>\n",
       "<table border=\"1\" class=\"dataframe\">\n",
       "  <thead>\n",
       "    <tr style=\"text-align: right;\">\n",
       "      <th></th>\n",
       "      <th>timestamp</th>\n",
       "      <th>date</th>\n",
       "      <th>activity</th>\n",
       "      <th>set</th>\n",
       "    </tr>\n",
       "  </thead>\n",
       "  <tbody>\n",
       "    <tr>\n",
       "      <th>0</th>\n",
       "      <td>2003-03-18 15:00:00</td>\n",
       "      <td>2003-03-18</td>\n",
       "      <td>60</td>\n",
       "      <td>control_1</td>\n",
       "    </tr>\n",
       "    <tr>\n",
       "      <th>1</th>\n",
       "      <td>2003-03-18 15:01:00</td>\n",
       "      <td>2003-03-18</td>\n",
       "      <td>0</td>\n",
       "      <td>control_1</td>\n",
       "    </tr>\n",
       "    <tr>\n",
       "      <th>2</th>\n",
       "      <td>2003-03-18 15:02:00</td>\n",
       "      <td>2003-03-18</td>\n",
       "      <td>264</td>\n",
       "      <td>control_1</td>\n",
       "    </tr>\n",
       "    <tr>\n",
       "      <th>3</th>\n",
       "      <td>2003-03-18 15:03:00</td>\n",
       "      <td>2003-03-18</td>\n",
       "      <td>662</td>\n",
       "      <td>control_1</td>\n",
       "    </tr>\n",
       "    <tr>\n",
       "      <th>4</th>\n",
       "      <td>2003-03-18 15:04:00</td>\n",
       "      <td>2003-03-18</td>\n",
       "      <td>293</td>\n",
       "      <td>control_1</td>\n",
       "    </tr>\n",
       "    <tr>\n",
       "      <th>...</th>\n",
       "      <td>...</td>\n",
       "      <td>...</td>\n",
       "      <td>...</td>\n",
       "      <td>...</td>\n",
       "    </tr>\n",
       "    <tr>\n",
       "      <th>968366</th>\n",
       "      <td>2003-04-23 08:24:00</td>\n",
       "      <td>2003-04-23</td>\n",
       "      <td>0</td>\n",
       "      <td>control_31</td>\n",
       "    </tr>\n",
       "    <tr>\n",
       "      <th>968367</th>\n",
       "      <td>2003-04-23 08:25:00</td>\n",
       "      <td>2003-04-23</td>\n",
       "      <td>12</td>\n",
       "      <td>control_31</td>\n",
       "    </tr>\n",
       "    <tr>\n",
       "      <th>968368</th>\n",
       "      <td>2003-04-23 08:26:00</td>\n",
       "      <td>2003-04-23</td>\n",
       "      <td>178</td>\n",
       "      <td>control_31</td>\n",
       "    </tr>\n",
       "    <tr>\n",
       "      <th>968369</th>\n",
       "      <td>2003-04-23 08:27:00</td>\n",
       "      <td>2003-04-23</td>\n",
       "      <td>0</td>\n",
       "      <td>control_31</td>\n",
       "    </tr>\n",
       "    <tr>\n",
       "      <th>968370</th>\n",
       "      <td>2003-04-23 08:28:00</td>\n",
       "      <td>2003-04-23</td>\n",
       "      <td>0</td>\n",
       "      <td>control_31</td>\n",
       "    </tr>\n",
       "  </tbody>\n",
       "</table>\n",
       "<p>968371 rows × 4 columns</p>\n",
       "</div>"
      ],
      "text/plain": [
       "                  timestamp        date  activity         set\n",
       "0       2003-03-18 15:00:00  2003-03-18        60   control_1\n",
       "1       2003-03-18 15:01:00  2003-03-18         0   control_1\n",
       "2       2003-03-18 15:02:00  2003-03-18       264   control_1\n",
       "3       2003-03-18 15:03:00  2003-03-18       662   control_1\n",
       "4       2003-03-18 15:04:00  2003-03-18       293   control_1\n",
       "...                     ...         ...       ...         ...\n",
       "968366  2003-04-23 08:24:00  2003-04-23         0  control_31\n",
       "968367  2003-04-23 08:25:00  2003-04-23        12  control_31\n",
       "968368  2003-04-23 08:26:00  2003-04-23       178  control_31\n",
       "968369  2003-04-23 08:27:00  2003-04-23         0  control_31\n",
       "968370  2003-04-23 08:28:00  2003-04-23         0  control_31\n",
       "\n",
       "[968371 rows x 4 columns]"
      ]
     },
     "execution_count": 13,
     "metadata": {},
     "output_type": "execute_result"
    }
   ],
   "source": [
    "control_df.reset_index(drop = True)"
   ]
  },
  {
   "cell_type": "code",
   "execution_count": 14,
   "id": "4960680b-31a5-4c44-993e-7e4110098ad7",
   "metadata": {},
   "outputs": [
    {
     "data": {
      "text/plain": [
       "array(['control_1', 'control_2', 'control_3', 'control_4', 'control_5',\n",
       "       'control_6', 'control_7', 'control_8', 'control_9', 'control_10',\n",
       "       'control_11', 'control_12', 'control_13', 'control_14',\n",
       "       'control_15', 'control_16', 'control_17', 'control_18',\n",
       "       'control_19', 'control_20', 'control_21', 'control_22',\n",
       "       'control_23', 'control_24', 'control_25', 'control_26',\n",
       "       'control_27', 'control_28', 'control_29', 'control_30',\n",
       "       'control_31'], dtype=object)"
      ]
     },
     "execution_count": 14,
     "metadata": {},
     "output_type": "execute_result"
    }
   ],
   "source": [
    "control_df['set'].unique()"
   ]
  },
  {
   "cell_type": "code",
   "execution_count": 15,
   "id": "227ec839-b91a-41dc-b95e-e70c089cdc42",
   "metadata": {},
   "outputs": [
    {
     "data": {
      "text/html": [
       "<div>\n",
       "<style scoped>\n",
       "    .dataframe tbody tr th:only-of-type {\n",
       "        vertical-align: middle;\n",
       "    }\n",
       "\n",
       "    .dataframe tbody tr th {\n",
       "        vertical-align: top;\n",
       "    }\n",
       "\n",
       "    .dataframe thead th {\n",
       "        text-align: right;\n",
       "    }\n",
       "</style>\n",
       "<table border=\"1\" class=\"dataframe\">\n",
       "  <thead>\n",
       "    <tr style=\"text-align: right;\">\n",
       "      <th></th>\n",
       "      <th>timestamp</th>\n",
       "      <th>date</th>\n",
       "      <th>activity</th>\n",
       "      <th>set</th>\n",
       "    </tr>\n",
       "  </thead>\n",
       "  <tbody>\n",
       "    <tr>\n",
       "      <th>0</th>\n",
       "      <td>2003-03-18 15:00:00</td>\n",
       "      <td>2003-03-18</td>\n",
       "      <td>60</td>\n",
       "      <td>control_1</td>\n",
       "    </tr>\n",
       "    <tr>\n",
       "      <th>1</th>\n",
       "      <td>2003-03-18 15:01:00</td>\n",
       "      <td>2003-03-18</td>\n",
       "      <td>0</td>\n",
       "      <td>control_1</td>\n",
       "    </tr>\n",
       "    <tr>\n",
       "      <th>2</th>\n",
       "      <td>2003-03-18 15:02:00</td>\n",
       "      <td>2003-03-18</td>\n",
       "      <td>264</td>\n",
       "      <td>control_1</td>\n",
       "    </tr>\n",
       "    <tr>\n",
       "      <th>3</th>\n",
       "      <td>2003-03-18 15:03:00</td>\n",
       "      <td>2003-03-18</td>\n",
       "      <td>662</td>\n",
       "      <td>control_1</td>\n",
       "    </tr>\n",
       "    <tr>\n",
       "      <th>4</th>\n",
       "      <td>2003-03-18 15:04:00</td>\n",
       "      <td>2003-03-18</td>\n",
       "      <td>293</td>\n",
       "      <td>control_1</td>\n",
       "    </tr>\n",
       "  </tbody>\n",
       "</table>\n",
       "</div>"
      ],
      "text/plain": [
       "             timestamp        date  activity        set\n",
       "0  2003-03-18 15:00:00  2003-03-18        60  control_1\n",
       "1  2003-03-18 15:01:00  2003-03-18         0  control_1\n",
       "2  2003-03-18 15:02:00  2003-03-18       264  control_1\n",
       "3  2003-03-18 15:03:00  2003-03-18       662  control_1\n",
       "4  2003-03-18 15:04:00  2003-03-18       293  control_1"
      ]
     },
     "execution_count": 15,
     "metadata": {},
     "output_type": "execute_result"
    }
   ],
   "source": [
    "control_df.head()"
   ]
  },
  {
   "cell_type": "code",
   "execution_count": 16,
   "id": "a70eafa0-51a2-4804-97fb-f407f1abf71a",
   "metadata": {},
   "outputs": [
    {
     "data": {
      "text/html": [
       "<div>\n",
       "<style scoped>\n",
       "    .dataframe tbody tr th:only-of-type {\n",
       "        vertical-align: middle;\n",
       "    }\n",
       "\n",
       "    .dataframe tbody tr th {\n",
       "        vertical-align: top;\n",
       "    }\n",
       "\n",
       "    .dataframe thead th {\n",
       "        text-align: right;\n",
       "    }\n",
       "</style>\n",
       "<table border=\"1\" class=\"dataframe\">\n",
       "  <thead>\n",
       "    <tr style=\"text-align: right;\">\n",
       "      <th></th>\n",
       "      <th>activity</th>\n",
       "    </tr>\n",
       "  </thead>\n",
       "  <tbody>\n",
       "    <tr>\n",
       "      <th>count</th>\n",
       "      <td>968371.000000</td>\n",
       "    </tr>\n",
       "    <tr>\n",
       "      <th>mean</th>\n",
       "      <td>194.889495</td>\n",
       "    </tr>\n",
       "    <tr>\n",
       "      <th>std</th>\n",
       "      <td>384.662806</td>\n",
       "    </tr>\n",
       "    <tr>\n",
       "      <th>min</th>\n",
       "      <td>0.000000</td>\n",
       "    </tr>\n",
       "    <tr>\n",
       "      <th>25%</th>\n",
       "      <td>0.000000</td>\n",
       "    </tr>\n",
       "    <tr>\n",
       "      <th>50%</th>\n",
       "      <td>4.000000</td>\n",
       "    </tr>\n",
       "    <tr>\n",
       "      <th>75%</th>\n",
       "      <td>231.000000</td>\n",
       "    </tr>\n",
       "    <tr>\n",
       "      <th>max</th>\n",
       "      <td>8000.000000</td>\n",
       "    </tr>\n",
       "  </tbody>\n",
       "</table>\n",
       "</div>"
      ],
      "text/plain": [
       "            activity\n",
       "count  968371.000000\n",
       "mean      194.889495\n",
       "std       384.662806\n",
       "min         0.000000\n",
       "25%         0.000000\n",
       "50%         4.000000\n",
       "75%       231.000000\n",
       "max      8000.000000"
      ]
     },
     "execution_count": 16,
     "metadata": {},
     "output_type": "execute_result"
    }
   ],
   "source": [
    "control_df.describe()"
   ]
  },
  {
   "cell_type": "code",
   "execution_count": 17,
   "id": "165c405d-181f-4baf-952b-bb0c6035e828",
   "metadata": {},
   "outputs": [
    {
     "data": {
      "text/plain": [
       "timestamp    False\n",
       "date         False\n",
       "activity     False\n",
       "set          False\n",
       "dtype: bool"
      ]
     },
     "execution_count": 17,
     "metadata": {},
     "output_type": "execute_result"
    }
   ],
   "source": [
    "control_df.isnull().any()"
   ]
  },
  {
   "cell_type": "markdown",
   "id": "9ba5e626-fd94-463e-a69a-e4e447c597d7",
   "metadata": {},
   "source": [
    "## Merged dataset"
   ]
  },
  {
   "cell_type": "code",
   "execution_count": 38,
   "id": "4ce17d71-9505-403a-ad44-a61bdd40887f",
   "metadata": {},
   "outputs": [],
   "source": [
    "frames = [control_df, condition_df]\n",
    "merged_df = pd.concat(frames)"
   ]
  },
  {
   "cell_type": "code",
   "execution_count": 39,
   "id": "c3576b7f-608e-4912-aa75-00207d8a7a1f",
   "metadata": {},
   "outputs": [
    {
     "data": {
      "text/plain": [
       "(1488602, 4)"
      ]
     },
     "execution_count": 39,
     "metadata": {},
     "output_type": "execute_result"
    }
   ],
   "source": [
    "merged_df.shape"
   ]
  },
  {
   "cell_type": "code",
   "execution_count": 40,
   "id": "14994f38-9117-4e43-8d34-645c5d65ddf5",
   "metadata": {},
   "outputs": [
    {
     "data": {
      "text/html": [
       "<div>\n",
       "<style scoped>\n",
       "    .dataframe tbody tr th:only-of-type {\n",
       "        vertical-align: middle;\n",
       "    }\n",
       "\n",
       "    .dataframe tbody tr th {\n",
       "        vertical-align: top;\n",
       "    }\n",
       "\n",
       "    .dataframe thead th {\n",
       "        text-align: right;\n",
       "    }\n",
       "</style>\n",
       "<table border=\"1\" class=\"dataframe\">\n",
       "  <thead>\n",
       "    <tr style=\"text-align: right;\">\n",
       "      <th></th>\n",
       "      <th>timestamp</th>\n",
       "      <th>date</th>\n",
       "      <th>activity</th>\n",
       "      <th>set</th>\n",
       "    </tr>\n",
       "  </thead>\n",
       "  <tbody>\n",
       "    <tr>\n",
       "      <th>0</th>\n",
       "      <td>2003-03-18 15:00:00</td>\n",
       "      <td>2003-03-18</td>\n",
       "      <td>60</td>\n",
       "      <td>control_1</td>\n",
       "    </tr>\n",
       "    <tr>\n",
       "      <th>1</th>\n",
       "      <td>2003-03-18 15:01:00</td>\n",
       "      <td>2003-03-18</td>\n",
       "      <td>0</td>\n",
       "      <td>control_1</td>\n",
       "    </tr>\n",
       "    <tr>\n",
       "      <th>2</th>\n",
       "      <td>2003-03-18 15:02:00</td>\n",
       "      <td>2003-03-18</td>\n",
       "      <td>264</td>\n",
       "      <td>control_1</td>\n",
       "    </tr>\n",
       "    <tr>\n",
       "      <th>3</th>\n",
       "      <td>2003-03-18 15:03:00</td>\n",
       "      <td>2003-03-18</td>\n",
       "      <td>662</td>\n",
       "      <td>control_1</td>\n",
       "    </tr>\n",
       "    <tr>\n",
       "      <th>4</th>\n",
       "      <td>2003-03-18 15:04:00</td>\n",
       "      <td>2003-03-18</td>\n",
       "      <td>293</td>\n",
       "      <td>control_1</td>\n",
       "    </tr>\n",
       "    <tr>\n",
       "      <th>...</th>\n",
       "      <td>...</td>\n",
       "      <td>...</td>\n",
       "      <td>...</td>\n",
       "      <td>...</td>\n",
       "    </tr>\n",
       "    <tr>\n",
       "      <th>1488597</th>\n",
       "      <td>2002-11-20 13:32:00</td>\n",
       "      <td>2002-11-20</td>\n",
       "      <td>0</td>\n",
       "      <td>condition_22</td>\n",
       "    </tr>\n",
       "    <tr>\n",
       "      <th>1488598</th>\n",
       "      <td>2002-11-20 13:33:00</td>\n",
       "      <td>2002-11-20</td>\n",
       "      <td>0</td>\n",
       "      <td>condition_22</td>\n",
       "    </tr>\n",
       "    <tr>\n",
       "      <th>1488599</th>\n",
       "      <td>2002-11-20 13:34:00</td>\n",
       "      <td>2002-11-20</td>\n",
       "      <td>7</td>\n",
       "      <td>condition_22</td>\n",
       "    </tr>\n",
       "    <tr>\n",
       "      <th>1488600</th>\n",
       "      <td>2002-11-20 13:35:00</td>\n",
       "      <td>2002-11-20</td>\n",
       "      <td>0</td>\n",
       "      <td>condition_22</td>\n",
       "    </tr>\n",
       "    <tr>\n",
       "      <th>1488601</th>\n",
       "      <td>2002-11-20 13:36:00</td>\n",
       "      <td>2002-11-20</td>\n",
       "      <td>111</td>\n",
       "      <td>condition_22</td>\n",
       "    </tr>\n",
       "  </tbody>\n",
       "</table>\n",
       "<p>1488602 rows × 4 columns</p>\n",
       "</div>"
      ],
      "text/plain": [
       "                   timestamp        date  activity           set\n",
       "0        2003-03-18 15:00:00  2003-03-18        60     control_1\n",
       "1        2003-03-18 15:01:00  2003-03-18         0     control_1\n",
       "2        2003-03-18 15:02:00  2003-03-18       264     control_1\n",
       "3        2003-03-18 15:03:00  2003-03-18       662     control_1\n",
       "4        2003-03-18 15:04:00  2003-03-18       293     control_1\n",
       "...                      ...         ...       ...           ...\n",
       "1488597  2002-11-20 13:32:00  2002-11-20         0  condition_22\n",
       "1488598  2002-11-20 13:33:00  2002-11-20         0  condition_22\n",
       "1488599  2002-11-20 13:34:00  2002-11-20         7  condition_22\n",
       "1488600  2002-11-20 13:35:00  2002-11-20         0  condition_22\n",
       "1488601  2002-11-20 13:36:00  2002-11-20       111  condition_22\n",
       "\n",
       "[1488602 rows x 4 columns]"
      ]
     },
     "execution_count": 40,
     "metadata": {},
     "output_type": "execute_result"
    }
   ],
   "source": [
    "merged_df.reset_index(drop=True)"
   ]
  },
  {
   "cell_type": "markdown",
   "id": "8996e909-af90-4e41-a0d9-c976e0f9c31b",
   "metadata": {},
   "source": [
    "## Exploratroy data analysis"
   ]
  },
  {
   "cell_type": "code",
   "execution_count": 52,
   "id": "811805f0-a563-495c-ae99-6c53d9224cd5",
   "metadata": {},
   "outputs": [],
   "source": [
    "import seaborn as sns\n",
    "import matplotlib.pyplot as plt"
   ]
  },
  {
   "cell_type": "code",
   "execution_count": 88,
   "id": "22df2d38-9f69-46a7-8548-6d24339271cd",
   "metadata": {},
   "outputs": [],
   "source": [
    "# 1st control and condition dfs\n",
    "# sample_control = merged_df.loc[(merged_df['date'] > '2003-03-01') & (merged_df['date'] < '2003-04-01')]\n",
    "sample_condition_2 = merged_df.loc[merged_df['set'] == 'condition_2']\n",
    "sample_condition_1 = merged_df.loc[merged_df['set'] == 'condition_1']\n",
    "sample_control_1 = merged_df.loc[merged_df['set'] == 'control_1']\n",
    "sample_control_2 = merged_df.loc[merged_df['set'] == 'control_2']"
   ]
  },
  {
   "cell_type": "code",
   "execution_count": 91,
   "id": "4032fb6c-d0db-4374-92ed-ed94bae5967a",
   "metadata": {},
   "outputs": [
    {
     "ename": "AttributeError",
     "evalue": "'numpy.ndarray' object has no attribute 'yaxis'",
     "output_type": "error",
     "traceback": [
      "\u001b[1;31m---------------------------------------------------------------------------\u001b[0m",
      "\u001b[1;31mAttributeError\u001b[0m                            Traceback (most recent call last)",
      "\u001b[1;32m~\\AppData\\Local\\Temp/ipykernel_16932/4086136146.py\u001b[0m in \u001b[0;36m<module>\u001b[1;34m\u001b[0m\n\u001b[0;32m      2\u001b[0m \u001b[0mfig\u001b[0m\u001b[1;33m,\u001b[0m \u001b[0max\u001b[0m \u001b[1;33m=\u001b[0m \u001b[0mplt\u001b[0m\u001b[1;33m.\u001b[0m\u001b[0msubplots\u001b[0m\u001b[1;33m(\u001b[0m\u001b[1;36m2\u001b[0m\u001b[1;33m,\u001b[0m\u001b[1;36m2\u001b[0m\u001b[1;33m,\u001b[0m\u001b[0mfigsize\u001b[0m\u001b[1;33m=\u001b[0m\u001b[0ma4_dims\u001b[0m\u001b[1;33m)\u001b[0m\u001b[1;33m\u001b[0m\u001b[1;33m\u001b[0m\u001b[0m\n\u001b[0;32m      3\u001b[0m \u001b[1;33m\u001b[0m\u001b[0m\n\u001b[1;32m----> 4\u001b[1;33m sns.lineplot(ax=ax,\n\u001b[0m\u001b[0;32m      5\u001b[0m              \u001b[0mdata\u001b[0m\u001b[1;33m=\u001b[0m\u001b[0msample_condition_1\u001b[0m\u001b[1;33m,\u001b[0m\u001b[1;33m\u001b[0m\u001b[1;33m\u001b[0m\u001b[0m\n\u001b[0;32m      6\u001b[0m              \u001b[1;31m#x=\"date\",\u001b[0m\u001b[1;33m\u001b[0m\u001b[1;33m\u001b[0m\u001b[0m\n",
      "\u001b[1;32m~\\anaconda3\\lib\\site-packages\\seaborn\\_decorators.py\u001b[0m in \u001b[0;36minner_f\u001b[1;34m(*args, **kwargs)\u001b[0m\n\u001b[0;32m     44\u001b[0m             )\n\u001b[0;32m     45\u001b[0m         \u001b[0mkwargs\u001b[0m\u001b[1;33m.\u001b[0m\u001b[0mupdate\u001b[0m\u001b[1;33m(\u001b[0m\u001b[1;33m{\u001b[0m\u001b[0mk\u001b[0m\u001b[1;33m:\u001b[0m \u001b[0marg\u001b[0m \u001b[1;32mfor\u001b[0m \u001b[0mk\u001b[0m\u001b[1;33m,\u001b[0m \u001b[0marg\u001b[0m \u001b[1;32min\u001b[0m \u001b[0mzip\u001b[0m\u001b[1;33m(\u001b[0m\u001b[0msig\u001b[0m\u001b[1;33m.\u001b[0m\u001b[0mparameters\u001b[0m\u001b[1;33m,\u001b[0m \u001b[0margs\u001b[0m\u001b[1;33m)\u001b[0m\u001b[1;33m}\u001b[0m\u001b[1;33m)\u001b[0m\u001b[1;33m\u001b[0m\u001b[1;33m\u001b[0m\u001b[0m\n\u001b[1;32m---> 46\u001b[1;33m         \u001b[1;32mreturn\u001b[0m \u001b[0mf\u001b[0m\u001b[1;33m(\u001b[0m\u001b[1;33m**\u001b[0m\u001b[0mkwargs\u001b[0m\u001b[1;33m)\u001b[0m\u001b[1;33m\u001b[0m\u001b[1;33m\u001b[0m\u001b[0m\n\u001b[0m\u001b[0;32m     47\u001b[0m     \u001b[1;32mreturn\u001b[0m \u001b[0minner_f\u001b[0m\u001b[1;33m\u001b[0m\u001b[1;33m\u001b[0m\u001b[0m\n\u001b[0;32m     48\u001b[0m \u001b[1;33m\u001b[0m\u001b[0m\n",
      "\u001b[1;32m~\\anaconda3\\lib\\site-packages\\seaborn\\relational.py\u001b[0m in \u001b[0;36mlineplot\u001b[1;34m(x, y, hue, size, style, data, palette, hue_order, hue_norm, sizes, size_order, size_norm, dashes, markers, style_order, units, estimator, ci, n_boot, seed, sort, err_style, err_kws, legend, ax, **kwargs)\u001b[0m\n\u001b[0;32m    706\u001b[0m         \u001b[1;32mreturn\u001b[0m \u001b[0max\u001b[0m\u001b[1;33m\u001b[0m\u001b[1;33m\u001b[0m\u001b[0m\n\u001b[0;32m    707\u001b[0m \u001b[1;33m\u001b[0m\u001b[0m\n\u001b[1;32m--> 708\u001b[1;33m     \u001b[0mp\u001b[0m\u001b[1;33m.\u001b[0m\u001b[0m_attach\u001b[0m\u001b[1;33m(\u001b[0m\u001b[0max\u001b[0m\u001b[1;33m)\u001b[0m\u001b[1;33m\u001b[0m\u001b[1;33m\u001b[0m\u001b[0m\n\u001b[0m\u001b[0;32m    709\u001b[0m \u001b[1;33m\u001b[0m\u001b[0m\n\u001b[0;32m    710\u001b[0m     \u001b[0mp\u001b[0m\u001b[1;33m.\u001b[0m\u001b[0mplot\u001b[0m\u001b[1;33m(\u001b[0m\u001b[0max\u001b[0m\u001b[1;33m,\u001b[0m \u001b[0mkwargs\u001b[0m\u001b[1;33m)\u001b[0m\u001b[1;33m\u001b[0m\u001b[1;33m\u001b[0m\u001b[0m\n",
      "\u001b[1;32m~\\anaconda3\\lib\\site-packages\\seaborn\\_core.py\u001b[0m in \u001b[0;36m_attach\u001b[1;34m(self, obj, allowed_types, log_scale)\u001b[0m\n\u001b[0;32m   1132\u001b[0m             \u001b[1;31m# its mapping, meaning that it won't handle unshared axes well either.\u001b[0m\u001b[1;33m\u001b[0m\u001b[1;33m\u001b[0m\u001b[0m\n\u001b[0;32m   1133\u001b[0m             \u001b[1;32mfor\u001b[0m \u001b[0max\u001b[0m \u001b[1;32min\u001b[0m \u001b[0max_list\u001b[0m\u001b[1;33m:\u001b[0m\u001b[1;33m\u001b[0m\u001b[1;33m\u001b[0m\u001b[0m\n\u001b[1;32m-> 1134\u001b[1;33m                 \u001b[0maxis\u001b[0m \u001b[1;33m=\u001b[0m \u001b[0mgetattr\u001b[0m\u001b[1;33m(\u001b[0m\u001b[0max\u001b[0m\u001b[1;33m,\u001b[0m \u001b[1;34mf\"{var}axis\"\u001b[0m\u001b[1;33m)\u001b[0m\u001b[1;33m\u001b[0m\u001b[1;33m\u001b[0m\u001b[0m\n\u001b[0m\u001b[0;32m   1135\u001b[0m                 \u001b[0mseed_data\u001b[0m \u001b[1;33m=\u001b[0m \u001b[0mself\u001b[0m\u001b[1;33m.\u001b[0m\u001b[0mplot_data\u001b[0m\u001b[1;33m[\u001b[0m\u001b[0mvar\u001b[0m\u001b[1;33m]\u001b[0m\u001b[1;33m\u001b[0m\u001b[1;33m\u001b[0m\u001b[0m\n\u001b[0;32m   1136\u001b[0m                 \u001b[1;32mif\u001b[0m \u001b[0mvar_type\u001b[0m \u001b[1;33m==\u001b[0m \u001b[1;34m\"categorical\"\u001b[0m\u001b[1;33m:\u001b[0m\u001b[1;33m\u001b[0m\u001b[1;33m\u001b[0m\u001b[0m\n",
      "\u001b[1;31mAttributeError\u001b[0m: 'numpy.ndarray' object has no attribute 'yaxis'"
     ]
    },
    {
     "data": {
      "image/png": "[encoded data removed]",
      "text/plain": [
       "<Figure size 842.4x595.44 with 4 Axes>"
      ]
     },
     "metadata": {
      "needs_background": "light"
     },
     "output_type": "display_data"
    }
   ],
   "source": [
    "a4_dims = (11.7, 8.27)\n",
    "fig, ax = plt.subplots(2,2,figsize=a4_dims)\n",
    "\n",
    "sns.lineplot(ax=ax,\n",
    "             data=sample_condition_1,\n",
    "             #x=\"date\", \n",
    "             #y=\"activity\",\n",
    "             #hue = 'set',\n",
    "            markers = True,\n",
    "            dashes=False)\n",
    "\n",
    "sns.lineplot(ax=ax,\n",
    "             data=sample_condition_2,\n",
    "             #x=\"date\", \n",
    "             #y=\"activity\",\n",
    "             #hue = 'set',\n",
    "            markers = True,\n",
    "            dashes=False)\n",
    "\n",
    "sns.lineplot(ax=ax,\n",
    "             data=sample_control_1,\n",
    "             #x=\"date\", \n",
    "             #y=\"activity\",\n",
    "             #hue = 'set',\n",
    "            markers = True,\n",
    "            dashes=False)\n",
    "\n",
    "sns.lineplot(ax=ax,\n",
    "             data=sample_control_2,\n",
    "             #x=\"date\", \n",
    "             #y=\"activity\",\n",
    "             #hue = 'set',\n",
    "            markers = True,\n",
    "            dashes=False)\n",
    "\n",
    "# sns.lineplot(ax=ax,\n",
    "#              data=sample_condition,\n",
    "#              x=\"date\", \n",
    "#              y=\"activity\",\n",
    "#             markers = True,\n",
    "#             dashes=False)\n",
    "\n",
    "# sns.distplot(sample_control, ax=ax)\n",
    "# sns.distplot(sample_condition, ax=ax)\n",
    "\n",
    "plt.title('Daily activity over time')\n",
    "plt.xticks(rotation=90)"
   ]
  },
  {
   "cell_type": "raw",
   "id": "6e22b9ba-a713-407c-899f-2324530ca396",
   "metadata": {},
   "source": [
    "Hypothesis:\n",
    "1. There is a significant difference in the daily activity of control and condition datasets\n",
    "2. There is a significant difference in the 30 day average of control and condition datasets\n",
    "3. There is a significant difference in the cumulative activity of control and condition datasets "
   ]
  }
 ],
 "metadata": {
  "kernelspec": {
   "display_name": "Python 3 (ipykernel)",
   "language": "python",
   "name": "python3"
  },
  "language_info": {
   "codemirror_mode": {
    "name": "ipython",
    "version": 3
   },
   "file_extension": ".py",
   "mimetype": "text/x-python",
   "name": "python",
   "nbconvert_exporter": "python",
   "pygments_lexer": "ipython3",
   "version": "3.9.7"
  }
 },
 "nbformat": 4,
 "nbformat_minor": 5
}
